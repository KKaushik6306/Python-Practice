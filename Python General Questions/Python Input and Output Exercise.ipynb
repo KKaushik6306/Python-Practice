{
 "cells": [
  {
   "cell_type": "code",
   "execution_count": 3,
   "metadata": {},
   "outputs": [
    {
     "name": "stdout",
     "output_type": "stream",
     "text": [
      "Please provide a number2\n",
      "2\n",
      "<class 'int'>\n"
     ]
    }
   ],
   "source": [
    "#Exercise 1: Accept numbers from a user\n",
    "a = int(input('Please provide a number'))\n",
    "print(int(a))\n",
    "print(type(a))"
   ]
  },
  {
   "cell_type": "code",
   "execution_count": 5,
   "metadata": {},
   "outputs": [
    {
     "name": "stdout",
     "output_type": "stream",
     "text": [
      "['My', 'Name', 'Is', 'James']\n",
      "My**Name**Is**James**"
     ]
    }
   ],
   "source": [
    "#Exercise 2: Display three string “Name”, “Is”, “James” as “Name**Is**James”\n",
    "st = 'My,Name,Is,James'\n",
    "\n",
    "lst = st.split(',')\n",
    "print(lst,sep='<')\n",
    "for wrd in lst:\n",
    "    print(wrd+'**',end='')"
   ]
  },
  {
   "cell_type": "code",
   "execution_count": 24,
   "metadata": {},
   "outputs": [
    {
     "name": "stdout",
     "output_type": "stream",
     "text": [
      "10\n"
     ]
    }
   ],
   "source": [
    "#Exercise 3: Convert Decimal number to octal using print() output formatting\n",
    "num = 8\n",
    "print('%o' % num)"
   ]
  },
  {
   "cell_type": "code",
   "execution_count": 30,
   "metadata": {},
   "outputs": [
    {
     "name": "stdout",
     "output_type": "stream",
     "text": [
      "458.54\n"
     ]
    }
   ],
   "source": [
    "#Exercise 4: Display float number with 2 decimal places using print()\n",
    "num = 458.541315\n",
    "print('%.2f' % num)"
   ]
  },
  {
   "cell_type": "code",
   "execution_count": 35,
   "metadata": {},
   "outputs": [
    {
     "name": "stdout",
     "output_type": "stream",
     "text": [
      "Please provide your number21.23\n",
      "Please provide your number21.23\n",
      "Please provide your number21.23\n",
      "Please provide your number21.23\n",
      "Please provide your number21.23\n",
      "[21.23, 21.23, 21.23, 21.23, 21.23]\n"
     ]
    }
   ],
   "source": [
    "#Exercise 5: Accept a list of 5 float numbers as an input from the user\n",
    "temp = []\n",
    "for i in range(0,5):\n",
    "    num = float(input('Please provide your number'))\n",
    "    temp.append(num)\n",
    "print(temp)"
   ]
  },
  {
   "cell_type": "code",
   "execution_count": 45,
   "metadata": {},
   "outputs": [
    {
     "name": "stdout",
     "output_type": "stream",
     "text": [
      "Hi \n",
      "I am \n",
      "Karan \n",
      "Kaushik\n",
      "Coding"
     ]
    }
   ],
   "source": [
    "#Exercise 6: Write all content of a given file into a new file by skipping line number 5\n",
    "with open('File.txt','r') as fp:\n",
    "    lines = fp.readlines()\n",
    "    count = 0\n",
    "for line in lines:\n",
    "    count += 1\n",
    "    if count != 5:\n",
    "        print(line,end='')"
   ]
  },
  {
   "cell_type": "code",
   "execution_count": 55,
   "metadata": {},
   "outputs": [
    {
     "name": "stdout",
     "output_type": "stream",
     "text": [
      "Please enter three strings with spaceHello Iam Karan\n",
      "Name1: Hello\n",
      "Name2: Iam\n",
      "Name3: Karan\n"
     ]
    }
   ],
   "source": [
    "#Exercise 7: Accept any three string from one input() call\n",
    "str1,str2,str3 = input('Please enter three strings with space').split(' ')\n",
    "print('Name1:',str1)\n",
    "print('Name2:',str2)\n",
    "print('Name3:',str3)"
   ]
  },
  {
   "cell_type": "code",
   "execution_count": 69,
   "metadata": {},
   "outputs": [
    {
     "data": {
      "text/plain": [
       "'I have 1000 dollars so I can buy 3.0 football for 450.00 dollars.'"
      ]
     },
     "execution_count": 69,
     "metadata": {},
     "output_type": "execute_result"
    }
   ],
   "source": [
    "#Exercise 8: Format variables using a string.format() method.\n",
    "quantity = 3\n",
    "totalMoney = 1000\n",
    "price = 450\n",
    "statement1 = \"I have {0} dollars so I can buy {1:.1f} football for {2:.2f} dollars.\"\n",
    "statement1.format(totalMoney,quantity, price)"
   ]
  },
  {
   "cell_type": "code",
   "execution_count": 76,
   "metadata": {},
   "outputs": [
    {
     "name": "stdout",
     "output_type": "stream",
     "text": [
      "File is not Empty\n"
     ]
    }
   ],
   "source": [
    "#Exercise 9: Check file is empty or not\n",
    "with open('File.txt','r') as fp:\n",
    "    lines = fp.readlines()\n",
    "    length = len(lines)\n",
    "    if length == 0:\n",
    "        print('File is Empty')\n",
    "    else:\n",
    "        print('File is not Empty')"
   ]
  },
  {
   "cell_type": "code",
   "execution_count": 14,
   "metadata": {},
   "outputs": [
    {
     "name": "stdout",
     "output_type": "stream",
     "text": [
      "Hi \n",
      "I am \n",
      "yes\n",
      "yes\n",
      "I Love\n",
      "yes\n",
      "\n",
      "\n",
      "https://pynative.com/python-exercises-with-solutions/"
     ]
    }
   ],
   "source": [
    "#Exercise 10: Read line number 4 from the following file\n",
    "with open('File.txt','r') as fp:\n",
    "    word = ['Karan','Coding','Kaushik']\n",
    "    lines = fp.readlines()\n",
    "    counter = 0\n",
    "    for line in lines:\n",
    "        if line.strip() in word:\n",
    "            print('yes')\n",
    "            continue\n",
    "        else:\n",
    "            print(line,end='')\n",
    "#         counter += 1\n",
    "#         print(line,end='')\n",
    "            "
   ]
  },
  {
   "cell_type": "code",
   "execution_count": null,
   "metadata": {},
   "outputs": [],
   "source": []
  }
 ],
 "metadata": {
  "kernelspec": {
   "display_name": "Python 3 (ipykernel)",
   "language": "python",
   "name": "python3"
  },
  "language_info": {
   "codemirror_mode": {
    "name": "ipython",
    "version": 3
   },
   "file_extension": ".py",
   "mimetype": "text/x-python",
   "name": "python",
   "nbconvert_exporter": "python",
   "pygments_lexer": "ipython3",
   "version": "3.7.3"
  }
 },
 "nbformat": 4,
 "nbformat_minor": 2
}
