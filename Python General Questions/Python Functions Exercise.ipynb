{
 "cells": [
  {
   "cell_type": "code",
   "execution_count": 1,
   "metadata": {},
   "outputs": [
    {
     "name": "stdout",
     "output_type": "stream",
     "text": [
      "Karan\n"
     ]
    }
   ],
   "source": [
    "#Exercise 1: Create a function in Python\n",
    "def print_name(x):\n",
    "    print(x)\n",
    "\n",
    "print_name('Karan')"
   ]
  },
  {
   "cell_type": "code",
   "execution_count": 2,
   "metadata": {},
   "outputs": [
    {
     "name": "stdout",
     "output_type": "stream",
     "text": [
      "Total values are 3\n",
      "['Karan', 'Ram', 'shyam']\n"
     ]
    }
   ],
   "source": [
    "#Exercise 2: Create a function with variable length of arguments\n",
    "def fun1(length,values):\n",
    "    print('Total values are',length)\n",
    "    print(values)\n",
    "    \n",
    "fun1(3,['Karan','Ram','shyam'])"
   ]
  },
  {
   "cell_type": "code",
   "execution_count": 3,
   "metadata": {},
   "outputs": [
    {
     "name": "stdout",
     "output_type": "stream",
     "text": [
      "15 50\n"
     ]
    }
   ],
   "source": [
    "#Exercise 3: Return multiple values from a function\n",
    "def calc(a,b):\n",
    "    addition_ = a+b\n",
    "    mult_ = a*b\n",
    "    print(addition_,mult_)\n",
    "    \n",
    "calc(5,10)"
   ]
  },
  {
   "cell_type": "code",
   "execution_count": 56,
   "metadata": {},
   "outputs": [
    {
     "name": "stdout",
     "output_type": "stream",
     "text": [
      "Karan 9000\n"
     ]
    }
   ],
   "source": [
    "#Exercise 4: Create a function with a default argument\n",
    "def show_employee(name,salary=9000):\n",
    "    print(name,salary)\n",
    "    \n",
    "show_employee('Karan')"
   ]
  },
  {
   "cell_type": "code",
   "execution_count": 106,
   "metadata": {},
   "outputs": [],
   "source": [
    "#Exercise 5: Create an inner function to calculate the addition in the following way\n",
    "\n",
    "class nums:\n",
    "    def __init__(self):\n",
    "        pass\n",
    "    \n",
    "    def addition(self,num1,num2):\n",
    "        print(num1+num2)\n",
    "        "
   ]
  },
  {
   "cell_type": "code",
   "execution_count": 107,
   "metadata": {},
   "outputs": [
    {
     "name": "stdout",
     "output_type": "stream",
     "text": [
      "15\n"
     ]
    }
   ],
   "source": [
    "obj = nums()\n",
    "obj.addition(5,10)"
   ]
  },
  {
   "cell_type": "code",
   "execution_count": 7,
   "metadata": {},
   "outputs": [
    {
     "name": "stdout",
     "output_type": "stream",
     "text": [
      "15\n"
     ]
    }
   ],
   "source": [
    "#Exercise 6: Create a recursive function\"\n",
    "def addition(num):\n",
    "    if num:\n",
    "        # call same function by reducing number by 1\n",
    "        return num + addition(num - 1)\n",
    "    else:\n",
    "        return 0\n",
    "\n",
    "res = addition(5)\n",
    "print(res)"
   ]
  },
  {
   "cell_type": "code",
   "execution_count": 1,
   "metadata": {},
   "outputs": [
    {
     "name": "stdout",
     "output_type": "stream",
     "text": [
      "Karan 30\n",
      "Sukanya 29\n"
     ]
    }
   ],
   "source": [
    "#Exercise 7: Assign a different name to function and call it through the new name\n",
    "def display_student(name,age):\n",
    "    print(name,age)\n",
    "    \n",
    "show_student=display_student\n",
    "display_student('Karan',30)\n",
    "show_student('Sukanya',29)"
   ]
  },
  {
   "cell_type": "code",
   "execution_count": 8,
   "metadata": {},
   "outputs": [
    {
     "name": "stdout",
     "output_type": "stream",
     "text": [
      "[4, 6, 8, 10, 12, 14, 16, 18, 20, 22, 24, 26, 28, 30]\n"
     ]
    }
   ],
   "source": [
    "def geteven_list(start,end):\n",
    "    a = [i for i in range(start,end+1) if i%2==0]\n",
    "    print(a)\n",
    "    \n",
    "geteven_list(4,30)"
   ]
  },
  {
   "cell_type": "code",
   "execution_count": 9,
   "metadata": {},
   "outputs": [],
   "source": [
    "class GetEvenlist:\n",
    "    def __init__(self,start,end):\n",
    "        self.start = start\n",
    "        self.end=end\n",
    "        \n",
    "    def getlist(self):\n",
    "        a = [i for i in range(self.start,self.end+1) if i%2==0]\n",
    "        print(a)\n",
    "        \n"
   ]
  },
  {
   "cell_type": "code",
   "execution_count": 10,
   "metadata": {},
   "outputs": [
    {
     "name": "stdout",
     "output_type": "stream",
     "text": [
      "[2, 4, 6, 8, 10, 12, 14, 16, 18, 20]\n"
     ]
    }
   ],
   "source": [
    "obj = GetEvenlist(2,20)\n",
    "obj.getlist()"
   ]
  },
  {
   "cell_type": "code",
   "execution_count": 22,
   "metadata": {},
   "outputs": [],
   "source": [
    "class GetEvenlist:\n",
    "    def __init__(self):\n",
    "        pass\n",
    "        \n",
    "    def getlist(self,start,end):\n",
    "        a = [i for i in range(start,end+1) if i%2==0]\n",
    "        print(a)\n",
    "        \n"
   ]
  },
  {
   "cell_type": "code",
   "execution_count": 23,
   "metadata": {},
   "outputs": [
    {
     "name": "stdout",
     "output_type": "stream",
     "text": [
      "[2, 4, 6, 8, 10, 12, 14, 16, 18, 20]\n"
     ]
    }
   ],
   "source": [
    "obj = GetEvenlist()\n",
    "obj.getlist(2,20)"
   ]
  },
  {
   "cell_type": "code",
   "execution_count": 29,
   "metadata": {},
   "outputs": [],
   "source": [
    "class GetEvenlist:\n",
    "    def __init__(self,start,end):\n",
    "        self.start = start\n",
    "        self.end = end\n",
    "        \n",
    "    def getlist(self,start,end):\n",
    "        a = [i for i in range(self.start,self.end+1) if i%2==0]\n",
    "        print(a)\n",
    "        \n"
   ]
  },
  {
   "cell_type": "code",
   "execution_count": 30,
   "metadata": {},
   "outputs": [
    {
     "name": "stdout",
     "output_type": "stream",
     "text": [
      "[2, 4, 6, 8, 10, 12, 14, 16, 18, 20]\n"
     ]
    }
   ],
   "source": [
    "obj = GetEvenlist(2,20)\n",
    "obj.getlist(2,20)"
   ]
  },
  {
   "cell_type": "code",
   "execution_count": null,
   "metadata": {},
   "outputs": [],
   "source": []
  },
  {
   "cell_type": "code",
   "execution_count": null,
   "metadata": {},
   "outputs": [],
   "source": []
  },
  {
   "cell_type": "code",
   "execution_count": null,
   "metadata": {},
   "outputs": [],
   "source": []
  },
  {
   "cell_type": "code",
   "execution_count": 5,
   "metadata": {},
   "outputs": [
    {
     "name": "stdout",
     "output_type": "stream",
     "text": [
      "[4, 6, 8, 10, 12, 14, 16, 18, 20, 22, 24, 26, 28, 30]\n"
     ]
    }
   ],
   "source": [
    "#Exercise 8: Generate a Python list of all the even numbers between 4 to 30\n",
    "\n",
    "#Class Objects\n",
    "class GetEvenList:\n",
    "    def __init__(self,start,end):\n",
    "        self.start=start\n",
    "        self.end=end\n",
    "        \n",
    "    def getlist(self,start,end):\n",
    "        a = [i for i in range(self.start,self.end+1) if i%2==0]\n",
    "        print(a)\n",
    "    \n",
    "obj = GetEvenList(4,30)\n",
    "obj.getlist(4,30)"
   ]
  },
  {
   "cell_type": "code",
   "execution_count": 6,
   "metadata": {},
   "outputs": [],
   "source": [
    "#Class Objects\n",
    "class GetEvenList:\n",
    "    def __init__(self):\n",
    "        pass\n",
    "        \n",
    "    def getlist(self,start,end):\n",
    "        a = [i for i in range(start,end+1) if i%2==0]\n",
    "        print(a)"
   ]
  },
  {
   "cell_type": "code",
   "execution_count": 7,
   "metadata": {},
   "outputs": [
    {
     "name": "stdout",
     "output_type": "stream",
     "text": [
      "[4, 6, 8, 10, 12, 14, 16, 18, 20, 22, 24, 26, 28, 30]\n"
     ]
    }
   ],
   "source": [
    "obj = GetEvenList()\n",
    "obj.getlist(4,30)"
   ]
  },
  {
   "cell_type": "code",
   "execution_count": 8,
   "metadata": {},
   "outputs": [
    {
     "name": "stdout",
     "output_type": "stream",
     "text": [
      "[4, 6, 8, 10, 12, 14, 16, 18, 20, 22, 24, 26, 28, 30]\n"
     ]
    }
   ],
   "source": [
    "#Exercise 8: Generate a Python list of all the even numbers between 4 to 30\n",
    "\n",
    "#Class Objects\n",
    "class GetEvenList:\n",
    "    def __init__(self,start,end):\n",
    "        self.start=start\n",
    "        self.end=end\n",
    "        \n",
    "    def getlist(self):\n",
    "        a = [i for i in range(self.start,self.end+1) if i%2==0]\n",
    "        print(a)\n",
    "    \n",
    "obj = GetEvenList(4,30)\n",
    "obj.getlist()"
   ]
  },
  {
   "cell_type": "code",
   "execution_count": 9,
   "metadata": {},
   "outputs": [
    {
     "name": "stdout",
     "output_type": "stream",
     "text": [
      "Largest Item in list a is 100\n",
      "Largest Item in list a is 100\n"
     ]
    }
   ],
   "source": [
    "#Exercise 9: Find the largest item from a given list\n",
    "a = [20,10,90,40,3,30,10,4,20,100,34,9]\n",
    "a.sort()\n",
    "print('Largest Item in list a is',a[-1])\n",
    "\n",
    "temp = 0\n",
    "for i in a:\n",
    "    if i >temp:\n",
    "        temp = i\n",
    "print('Largest Item in list a is',temp)\n",
    "    "
   ]
  },
  {
   "cell_type": "code",
   "execution_count": null,
   "metadata": {},
   "outputs": [],
   "source": []
  }
 ],
 "metadata": {
  "kernelspec": {
   "display_name": "Python 3 (ipykernel)",
   "language": "python",
   "name": "python3"
  },
  "language_info": {
   "codemirror_mode": {
    "name": "ipython",
    "version": 3
   },
   "file_extension": ".py",
   "mimetype": "text/x-python",
   "name": "python",
   "nbconvert_exporter": "python",
   "pygments_lexer": "ipython3",
   "version": "3.7.3"
  }
 },
 "nbformat": 4,
 "nbformat_minor": 2
}
