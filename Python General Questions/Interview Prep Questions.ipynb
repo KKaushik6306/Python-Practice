{
 "cells": [
  {
   "cell_type": "code",
   "execution_count": 1,
   "metadata": {},
   "outputs": [
    {
     "name": "stderr",
     "output_type": "stream",
     "text": [
      "C:\\Users\\dell\\Anaconda3\\lib\\site-packages\\pandas\\compat\\_optional.py:138: UserWarning: Pandas requires version '2.7.0' or newer of 'numexpr' (version '2.6.9' currently installed).\n",
      "  warnings.warn(msg, UserWarning)\n"
     ]
    }
   ],
   "source": [
    "import pandas as pd\n",
    "import numpy as np\n",
    "import matplotlib.pyplot as plt"
   ]
  },
  {
   "cell_type": "code",
   "execution_count": 2,
   "metadata": {},
   "outputs": [
    {
     "name": "stdout",
     "output_type": "stream",
     "text": [
      "Fibonacci sequence:\n",
      "0 1 1 2 3 5 8 13 21 34 "
     ]
    }
   ],
   "source": [
    "#Exercise 1: Display Fibonacci series up to 10 terms\n",
    "num1, num2 = 0, 1\n",
    "\n",
    "print(\"Fibonacci sequence:\")\n",
    "# run loop 10 times\n",
    "for i in range(10):\n",
    "    print(num1, end=' ')\n",
    "    \n",
    "    res = num1 + num2\n",
    "    num1 = num2\n",
    "    num2 = res\n",
    "    "
   ]
  },
  {
   "cell_type": "code",
   "execution_count": null,
   "metadata": {},
   "outputs": [],
   "source": [
    "nums = [4,2,4,5,6,10,15,50,80,90,3,4]\n",
    "\n",
    "for i in range(len(nums))"
   ]
  },
  {
   "cell_type": "code",
   "execution_count": 4,
   "metadata": {},
   "outputs": [
    {
     "data": {
      "text/plain": [
       "[2, 3, 4, 4, 4, 5, 6, 10, 15, 50, 80, 90]"
      ]
     },
     "execution_count": 4,
     "metadata": {},
     "output_type": "execute_result"
    }
   ],
   "source": [
    "#Exercise 2: Sort List with Bubble Sorting\n",
    "nums = [4,2,4,5,6,10,15,50,80,90,3,4]\n",
    "\n",
    "for i in range(len(nums)-1,0,-1):\n",
    "    for j in range(i):\n",
    "        if nums[j]>nums[j+1]:\n",
    "            nums[j],nums[j+1] = nums[j+1],nums[j]\n",
    "\n",
    "nums"
   ]
  },
  {
   "cell_type": "code",
   "execution_count": 35,
   "metadata": {},
   "outputs": [
    {
     "name": "stdout",
     "output_type": "stream",
     "text": [
      "Yes it is Palindrome!\n"
     ]
    }
   ],
   "source": [
    "#Exercise 3: Check if string is palindrome or not\n",
    "def check_palindrome(txt_):\n",
    "    new_txt = txt_[::-1]\n",
    "    if txt_.upper() == new_txt.upper():\n",
    "        print('Yes it is Palindrome!')\n",
    "    else:\n",
    "        print('No it is not a Palindrome!')\n",
    "        \n",
    "check_palindrome('Nitin')"
   ]
  },
  {
   "cell_type": "code",
   "execution_count": 39,
   "metadata": {},
   "outputs": [
    {
     "data": {
      "text/plain": [
       "{132: 'Grapes', 575: 'Apple', 782: 'Banana', 876: 'Mango'}"
      ]
     },
     "execution_count": 39,
     "metadata": {},
     "output_type": "execute_result"
    }
   ],
   "source": [
    "#Exerciese 4: Sort a Dictionary\n",
    "dict1 = {575:'Apple',876:'Mango',132:'Grapes',782:'Banana'}\n",
    "\n",
    "new_dict = {i:dict1[i] for i in sorted(dict1)}\n",
    "new_dict"
   ]
  },
  {
   "cell_type": "code",
   "execution_count": 48,
   "metadata": {},
   "outputs": [
    {
     "name": "stdout",
     "output_type": "stream",
     "text": [
      "Sum of 7 and 3 is equal to 10\n",
      "Sum of 8 and 2 is equal to 10\n"
     ]
    }
   ],
   "source": [
    "#Exerciese 5: Print list of items whose sum equivalent to specific number\n",
    "list1 = [8,7,2,5,3,1]\n",
    "sum_val = 10\n",
    "\n",
    "for i in range(len(list1)-1,0,-1):\n",
    "    for j in range(i):\n",
    "        num2 = list1[j]\n",
    "        num1 = list1[i]\n",
    "        if num2+num1 == sum_val:\n",
    "            print(f'Sum of {num2} and {num1} is equal to {sum_val}')"
   ]
  },
  {
   "cell_type": "code",
   "execution_count": 57,
   "metadata": {},
   "outputs": [
    {
     "name": "stdout",
     "output_type": "stream",
     "text": [
      "55\n",
      "55\n",
      "55\n",
      "55\n",
      "55\n",
      "55\n",
      "55\n",
      "55\n",
      "55\n",
      "55\n"
     ]
    }
   ],
   "source": [
    "#Exercise 6: Create Fibonacci using recursion method\n",
    "def recur_fib(n):\n",
    "    if n<=1:\n",
    "        return n\n",
    "    else:\n",
    "        return (recur_fib(n-1) + recur_fib(n-2))\n",
    "    \n",
    "for i in range(10):\n",
    "    print(recur_fib(10))"
   ]
  },
  {
   "cell_type": "code",
   "execution_count": 68,
   "metadata": {},
   "outputs": [
    {
     "data": {
      "text/plain": [
       "'blue is sky The'"
      ]
     },
     "execution_count": 68,
     "metadata": {},
     "output_type": "execute_result"
    }
   ],
   "source": [
    "#Exercise 7: Print reverse of Entire String\n",
    "a = 'The sky is blue'\n",
    "new_list = a.split(' ')\n",
    "new_list.reverse()\n",
    "' '.join(new_list)"
   ]
  },
  {
   "cell_type": "code",
   "execution_count": 4,
   "metadata": {},
   "outputs": [
    {
     "data": {
      "text/plain": [
       "'apples are  found only red  green'"
      ]
     },
     "execution_count": 4,
     "metadata": {},
     "output_type": "execute_result"
    }
   ],
   "source": [
    "#Exercise 8: Remove Punctuation, except space\n",
    "str1 = '/* apples are & found% only @red & green.'\n",
    "\n",
    "import string\n",
    "temp = ''\n",
    "for char in str1:\n",
    "    if char not in string.punctuation:\n",
    "        temp=temp+char\n",
    "        \n",
    "temp.strip()"
   ]
  },
  {
   "cell_type": "code",
   "execution_count": 3,
   "metadata": {},
   "outputs": [
    {
     "name": "stdout",
     "output_type": "stream",
     "text": [
      "abc\n"
     ]
    }
   ],
   "source": [
    "print('a' + 'b' + 'c')"
   ]
  },
  {
   "cell_type": "code",
   "execution_count": 14,
   "metadata": {},
   "outputs": [
    {
     "name": "stdout",
     "output_type": "stream",
     "text": [
      "{'i': 4, 't': 2, 'n': 5, 'y': 1, 'h': 2}\n",
      "Character n has the highest counts 5 in a dictionrary!\n"
     ]
    }
   ],
   "source": [
    "#Exercise 9: Find Max repeated characters\n",
    "s = 'itininiytnnhhn'\n",
    "from collections import Counter\n",
    "a = dict(Counter(s))\n",
    "print(a)\n",
    "max_value = 0\n",
    "for i,j in a.items():\n",
    "    if j>max_value:\n",
    "        key_value = i\n",
    "        max_value = j\n",
    "\n",
    "print(f'Character {key_value} has the highest counts {max_value} in a dictionrary!')"
   ]
  },
  {
   "cell_type": "code",
   "execution_count": 6,
   "metadata": {},
   "outputs": [
    {
     "name": "stdout",
     "output_type": "stream",
     "text": [
      "Min value in a list is 1\n",
      "Max value in a list is 50\n"
     ]
    }
   ],
   "source": [
    "#Exerciese 10: Find the maximum & minimum value from list without using any predefined function!\n",
    "a = [2,4,5,6,7,19,1,10,40,30,50,1]\n",
    "a.sort()\n",
    "min_value = a[0]\n",
    "max_value = a[-1]\n",
    "print(f'Min value in a list is {a[0]}')\n",
    "print(f'Max value in a list is {a[-1]}')"
   ]
  },
  {
   "cell_type": "code",
   "execution_count": 38,
   "metadata": {},
   "outputs": [
    {
     "name": "stdout",
     "output_type": "stream",
     "text": [
      "Something is not working\n",
      "Finally Working\n",
      "Something is not working\n",
      "Finally Working\n",
      "Something is not working\n",
      "Finally Working\n",
      "Something is not working\n",
      "Finally Working\n",
      "Something is not working\n",
      "Finally Working\n"
     ]
    }
   ],
   "source": [
    "#Exercise 11: Write a code to raise an exception.\n",
    "l = [1,2,3,4,5]\n",
    "for i in l:\n",
    "    try:\n",
    "        if i==1:\n",
    "            raise Exception (\"Exception: 1 is found\")\n",
    "        else:\n",
    "            sum+=1\n",
    "    except:\n",
    "        print('Something is not working')\n",
    "    finally:\n",
    "        print('Finally Working')"
   ]
  },
  {
   "cell_type": "markdown",
   "metadata": {},
   "source": [
    "Exercie 12: What is GIL Method.\n",
    "\n",
    "The global Interpreter lock of python allows only one thread to be executed at a time. It is often hurdle, as it does not allow \n",
    "multi-thread in python to save time."
   ]
  },
  {
   "cell_type": "markdown",
   "metadata": {},
   "source": [
    "Exercise 13: What is the difference between Class & Static Method\n",
    "\n",
    "A class method can access or modify the class state while a static method can't access or modify it."
   ]
  },
  {
   "cell_type": "code",
   "execution_count": 46,
   "metadata": {},
   "outputs": [
    {
     "data": {
      "text/plain": [
       "{'apple', 'bat', 'cat'}"
      ]
     },
     "execution_count": 46,
     "metadata": {},
     "output_type": "execute_result"
    }
   ],
   "source": [
    "a = {'apple','cat','bat'}\n",
    "a"
   ]
  },
  {
   "cell_type": "code",
   "execution_count": 10,
   "metadata": {},
   "outputs": [
    {
     "name": "stdout",
     "output_type": "stream",
     "text": [
      "120\n"
     ]
    }
   ],
   "source": [
    "#Exercise 14. Find Factorial of numbers!\n",
    "def factroial(n):\n",
    "    res = 1\n",
    "    for i in range(1,n+1):\n",
    "        res = res*i\n",
    "    print(res)\n",
    "    \n",
    "factroial(5)"
   ]
  },
  {
   "cell_type": "code",
   "execution_count": 13,
   "metadata": {},
   "outputs": [
    {
     "name": "stdout",
     "output_type": "stream",
     "text": [
      "[23 68 97 43 94 32 64 56 59 48 21 68 57 90 21 81 79 59 95 70]\n",
      "[0.62510395 0.29659062 0.12689367 0.36593442 0.37036375 0.38880302\n",
      " 0.99024476 0.51368786 0.27495732 0.93334798 0.90059927 0.0035412\n",
      " 0.25588238 0.03705149 0.61959069 0.26897217 0.90880941 0.42816644\n",
      " 0.2871864  0.16501541]\n"
     ]
    },
    {
     "ename": "TypeError",
     "evalue": "'range' object cannot be interpreted as an integer",
     "output_type": "error",
     "traceback": [
      "\u001b[1;31m---------------------------------------------------------------------------\u001b[0m",
      "\u001b[1;31mTypeError\u001b[0m                                 Traceback (most recent call last)",
      "\u001b[1;32m~\\AppData\\Local\\Temp\\ipykernel_13428\\4084276626.py\u001b[0m in \u001b[0;36m<module>\u001b[1;34m\u001b[0m\n\u001b[0;32m      2\u001b[0m \u001b[0mprint\u001b[0m\u001b[1;33m(\u001b[0m\u001b[0mnp\u001b[0m\u001b[1;33m.\u001b[0m\u001b[0mrandom\u001b[0m\u001b[1;33m.\u001b[0m\u001b[0mrandint\u001b[0m\u001b[1;33m(\u001b[0m\u001b[1;36m20\u001b[0m\u001b[1;33m,\u001b[0m\u001b[1;36m100\u001b[0m\u001b[1;33m,\u001b[0m\u001b[1;36m20\u001b[0m\u001b[1;33m)\u001b[0m\u001b[1;33m)\u001b[0m\u001b[1;33m\u001b[0m\u001b[1;33m\u001b[0m\u001b[0m\n\u001b[0;32m      3\u001b[0m \u001b[0mprint\u001b[0m\u001b[1;33m(\u001b[0m\u001b[0mnp\u001b[0m\u001b[1;33m.\u001b[0m\u001b[0mrandom\u001b[0m\u001b[1;33m.\u001b[0m\u001b[0mrand\u001b[0m\u001b[1;33m(\u001b[0m\u001b[1;36m20\u001b[0m\u001b[1;33m)\u001b[0m\u001b[1;33m)\u001b[0m\u001b[1;33m\u001b[0m\u001b[1;33m\u001b[0m\u001b[0m\n\u001b[1;32m----> 4\u001b[1;33m \u001b[0mprint\u001b[0m\u001b[1;33m(\u001b[0m\u001b[0mnp\u001b[0m\u001b[1;33m.\u001b[0m\u001b[0mrandom\u001b[0m\u001b[1;33m.\u001b[0m\u001b[0mrand\u001b[0m\u001b[1;33m(\u001b[0m\u001b[0mrange\u001b[0m\u001b[1;33m(\u001b[0m\u001b[1;36m20\u001b[0m\u001b[1;33m,\u001b[0m\u001b[1;36m100\u001b[0m\u001b[1;33m,\u001b[0m\u001b[1;36m2\u001b[0m\u001b[1;33m)\u001b[0m\u001b[1;33m)\u001b[0m\u001b[1;33m)\u001b[0m\u001b[1;33m\u001b[0m\u001b[1;33m\u001b[0m\u001b[0m\n\u001b[0m",
      "\u001b[1;32mmtrand.pyx\u001b[0m in \u001b[0;36mnumpy.random.mtrand.RandomState.rand\u001b[1;34m()\u001b[0m\n",
      "\u001b[1;32mmtrand.pyx\u001b[0m in \u001b[0;36mnumpy.random.mtrand.RandomState.random_sample\u001b[1;34m()\u001b[0m\n",
      "\u001b[1;32m_common.pyx\u001b[0m in \u001b[0;36mnumpy.random._common.double_fill\u001b[1;34m()\u001b[0m\n",
      "\u001b[1;31mTypeError\u001b[0m: 'range' object cannot be interpreted as an integer"
     ]
    }
   ],
   "source": [
    "import numpy as np\n",
    "print(np.random.randint(20,100,20))\n",
    "print(np.random.rand(20))\n",
    "print(np.random.rand(range(20,100,2)))"
   ]
  },
  {
   "cell_type": "code",
   "execution_count": 73,
   "metadata": {},
   "outputs": [
    {
     "name": "stdout",
     "output_type": "stream",
     "text": [
      "0 1 1 2 3 5 8 13 21 34 "
     ]
    }
   ],
   "source": [
    "#Exercise 15: Print Fibonacci Series\n",
    "\n",
    "def Fibonacci(n):\n",
    "    num1,num2 = 0,1\n",
    "    for i in range(n):\n",
    "        print(num1,end=' ')\n",
    "        res = num1+num2\n",
    "        num1=num2\n",
    "        num2=res\n",
    "\n",
    "Fibonacci(10)"
   ]
  },
  {
   "cell_type": "code",
   "execution_count": null,
   "metadata": {},
   "outputs": [],
   "source": []
  }
 ],
 "metadata": {
  "kernelspec": {
   "display_name": "Python 3 (ipykernel)",
   "language": "python",
   "name": "python3"
  },
  "language_info": {
   "codemirror_mode": {
    "name": "ipython",
    "version": 3
   },
   "file_extension": ".py",
   "mimetype": "text/x-python",
   "name": "python",
   "nbconvert_exporter": "python",
   "pygments_lexer": "ipython3",
   "version": "3.7.3"
  }
 },
 "nbformat": 4,
 "nbformat_minor": 2
}
