{
 "cells": [
  {
   "cell_type": "code",
   "execution_count": 1,
   "metadata": {},
   "outputs": [],
   "source": [
    "import numpy as np"
   ]
  },
  {
   "cell_type": "code",
   "execution_count": 2,
   "metadata": {},
   "outputs": [
    {
     "data": {
      "text/plain": [
       "array([[0, 1],\n",
       "       [2, 3],\n",
       "       [4, 5],\n",
       "       [6, 7]])"
      ]
     },
     "execution_count": 2,
     "metadata": {},
     "output_type": "execute_result"
    }
   ],
   "source": [
    "#Exercise 1: Create a 4X2 integer array and Prints its attributes\n",
    "\n",
    "arr = np.arange(8).reshape(4,2)\n",
    "arr"
   ]
  },
  {
   "cell_type": "code",
   "execution_count": 3,
   "metadata": {},
   "outputs": [
    {
     "data": {
      "text/plain": [
       "array([[100, 110],\n",
       "       [120, 130],\n",
       "       [140, 150],\n",
       "       [160, 170],\n",
       "       [180, 190]])"
      ]
     },
     "execution_count": 3,
     "metadata": {},
     "output_type": "execute_result"
    }
   ],
   "source": [
    "#Exercise 2: Create a 5X2 integer array from a range between 100 to 200 such that the difference between each element is 10\n",
    "arr = np.arange(100,200,10).reshape(5,2)\n",
    "arr"
   ]
  },
  {
   "cell_type": "code",
   "execution_count": 4,
   "metadata": {},
   "outputs": [
    {
     "data": {
      "text/plain": [
       "array([33, 66, 99])"
      ]
     },
     "execution_count": 4,
     "metadata": {},
     "output_type": "execute_result"
    }
   ],
   "source": [
    "#Exercise 3: Following is the provided numPy array. Return array of items by taking the third column from all rows\n",
    "sampleArray = np.array([[11 ,22, 33], [44, 55, 66], [77, 88, 99]])\n",
    "sampleArray[:,-1]"
   ]
  },
  {
   "cell_type": "code",
   "execution_count": 5,
   "metadata": {},
   "outputs": [
    {
     "data": {
      "text/plain": [
       "array([[ 6, 12],\n",
       "       [30, 36],\n",
       "       [54, 60]])"
      ]
     },
     "execution_count": 5,
     "metadata": {},
     "output_type": "execute_result"
    }
   ],
   "source": [
    "#Exercise 4: Return array of odd rows and even columns from below numpy array\n",
    "arr = np.array([[3 ,6, 9, 12], [15 ,18, 21, 24], \n",
    "[27 ,30, 33, 36], [39 ,42, 45, 48], [51 ,54, 57, 60]])\n",
    "arr\n",
    "\n",
    "newarr = arr[0::2,1::2]\n",
    "newarr"
   ]
  },
  {
   "cell_type": "code",
   "execution_count": 7,
   "metadata": {},
   "outputs": [],
   "source": [
    "#Exercise 5: Create a result array by adding the following two NumPy arrays. \n",
    "#Next, modify the result array by calculating the square of each element\n",
    "\n",
    "arrayOne = np.array([[5, 6, 9], [21 ,18, 27]])\n",
    "arrayTwo = np.array([[15 ,33, 24], [4 ,7, 1]])"
   ]
  },
  {
   "cell_type": "code",
   "execution_count": 9,
   "metadata": {},
   "outputs": [
    {
     "data": {
      "text/plain": [
       "array([[ 400, 1521, 1089],\n",
       "       [ 625,  625,  784]], dtype=int32)"
      ]
     },
     "execution_count": 9,
     "metadata": {},
     "output_type": "execute_result"
    }
   ],
   "source": [
    "newarr = arrayOne+arrayTwo\n",
    "newarr = newarr**2\n",
    "newarr"
   ]
  },
  {
   "cell_type": "code",
   "execution_count": 15,
   "metadata": {},
   "outputs": [
    {
     "name": "stdout",
     "output_type": "stream",
     "text": [
      "400\n",
      "1521\n",
      "1089\n",
      "625\n",
      "625\n",
      "784\n"
     ]
    }
   ],
   "source": [
    "for i in np.nditer(newarr):\n",
    "    print(i)"
   ]
  },
  {
   "cell_type": "code",
   "execution_count": 62,
   "metadata": {},
   "outputs": [
    {
     "data": {
      "text/plain": [
       "[array([[10, 11, 12],\n",
       "        [13, 14, 15]]),\n",
       " array([[16, 17, 18],\n",
       "        [19, 20, 21]]),\n",
       " array([[22, 23, 24],\n",
       "        [25, 26, 27]]),\n",
       " array([[28, 29, 30],\n",
       "        [31, 32, 33]])]"
      ]
     },
     "execution_count": 62,
     "metadata": {},
     "output_type": "execute_result"
    }
   ],
   "source": [
    "#Exercise 6: Split the array into four equal-sized sub-arrays\n",
    "#Create an 8X3 integer array from a range between 10 to 34 such\n",
    "#that the difference between each element is 1 and then Split the array into four equal-sized sub-arrays.\n",
    "\n",
    "arr = np.arange(10,34,1).reshape(8,3)\n",
    "np.split(arr,4)"
   ]
  },
  {
   "cell_type": "code",
   "execution_count": 65,
   "metadata": {},
   "outputs": [
    {
     "name": "stdout",
     "output_type": "stream",
     "text": [
      "Sorting Original array by secoond row\n",
      "[[73 43 34]\n",
      " [12 22 82]\n",
      " [66 94 53]]\n"
     ]
    }
   ],
   "source": [
    "#Exercise 7: Sort following NumPy array\n",
    "sampleArray = np.array([[34,43,73],[82,22,12],[53,94,66]])\n",
    "sortArrayByRow = sampleArray[:,sampleArray[1,:].argsort()]\n",
    "print(\"Sorting Original array by secoond row\")\n",
    "print(sortArrayByRow)"
   ]
  },
  {
   "cell_type": "code",
   "execution_count": 1,
   "metadata": {},
   "outputs": [
    {
     "name": "stdout",
     "output_type": "stream",
     "text": [
      "12\n",
      "82\n"
     ]
    }
   ],
   "source": [
    "#Exercise 8: Print max from axis 0 and min from axis 1 from the following 2-D array.\n",
    "import numpy as np\n",
    "arr = np.array([[34,43,73],[82,22,12],[53,94,66]])\n",
    "print(arr.min(axis=1)[1])\n",
    "\n",
    "print(arr.max(axis=0)[0])"
   ]
  },
  {
   "cell_type": "code",
   "execution_count": 17,
   "metadata": {},
   "outputs": [
    {
     "data": {
      "text/plain": [
       "array([[34, 10, 73],\n",
       "       [82, 10, 12],\n",
       "       [53, 10, 66]])"
      ]
     },
     "execution_count": 17,
     "metadata": {},
     "output_type": "execute_result"
    }
   ],
   "source": [
    "#Exercise 9: Delete the second column from a given array and insert the following new column in its place.\n",
    "sampleArray = np.array([[34,43,73],[82,22,12],[53,94,66]]) \n",
    "newColumn = np.array([[10,10,10]])\n",
    "\n",
    "newarray = np.delete(sampleArray,1,axis=1)\n",
    "np.insert(newarray,1,newColumn,axis=1)"
   ]
  },
  {
   "cell_type": "code",
   "execution_count": 22,
   "metadata": {},
   "outputs": [
    {
     "data": {
      "text/plain": [
       "array([[10, 10, 10],\n",
       "       [34, 43, 73],\n",
       "       [53, 94, 66]])"
      ]
     },
     "execution_count": 22,
     "metadata": {},
     "output_type": "execute_result"
    }
   ],
   "source": [
    "#Exercise 9: Delete the second column from a given array and insert the following new column in its place.\n",
    "sampleArray = np.array([[34,43,73],[82,22,12],[53,94,66]]) \n",
    "newColumn = np.array([[10,10,10]])\n",
    "\n",
    "newarray = np.delete(sampleArray,1,axis=0)\n",
    "np.insert(newarray,0,newColumn,axis=0)"
   ]
  },
  {
   "cell_type": "code",
   "execution_count": null,
   "metadata": {},
   "outputs": [],
   "source": []
  },
  {
   "cell_type": "code",
   "execution_count": 80,
   "metadata": {},
   "outputs": [
    {
     "name": "stdout",
     "output_type": "stream",
     "text": [
      "Printing Original array\n",
      "[[34 43 73]\n",
      " [82 22 12]\n",
      " [53 94 66]]\n",
      "Array after deleting column 2 on axis 1\n",
      "[[34 73]\n",
      " [82 12]\n",
      " [53 66]]\n",
      "Array after inserting column 2 on axis 1\n",
      "[[34 10 73]\n",
      " [82 10 12]\n",
      " [53 10 66]]\n"
     ]
    }
   ],
   "source": [
    "#Exercise 10: Create two 2-D arrays and Plot them using matplotlib\n",
    "import numpy\n",
    "\n",
    "print(\"Printing Original array\")\n",
    "sampleArray = numpy.array([[34,43,73],[82,22,12],[53,94,66]]) \n",
    "print (sampleArray)\n",
    "\n",
    "print(\"Array after deleting column 2 on axis 1\")\n",
    "sampleArray = numpy.delete(sampleArray , 1, axis = 1) \n",
    "print (sampleArray)\n",
    "\n",
    "arr = numpy.array([[10,10,10]])\n",
    "\n",
    "print(\"Array after inserting column 2 on axis 1\")\n",
    "sampleArray = numpy.insert(sampleArray , 1, arr, axis = 1) \n",
    "print (sampleArray)"
   ]
  },
  {
   "cell_type": "markdown",
   "metadata": {},
   "source": [
    "### New Type of Questions"
   ]
  },
  {
   "cell_type": "code",
   "execution_count": 6,
   "metadata": {},
   "outputs": [
    {
     "data": {
      "text/plain": [
       "array([ 0, -1,  2, -1,  4, -1,  6, -1,  8, -1])"
      ]
     },
     "execution_count": 6,
     "metadata": {},
     "output_type": "execute_result"
    }
   ],
   "source": [
    "#Exercise 1 - Replace all odd numbers in the given array with -1\n",
    "arr = np.array([0, 1, 2, 3, 4, 5, 6, 7, 8, 9])\n",
    "\n",
    "arr[arr%2!=0] = -1\n",
    "arr"
   ]
  },
  {
   "cell_type": "code",
   "execution_count": 27,
   "metadata": {},
   "outputs": [
    {
     "data": {
      "text/plain": [
       "array([[0, 1, 2],\n",
       "       [3, 4, 5],\n",
       "       [6, 7, 8]])"
      ]
     },
     "execution_count": 27,
     "metadata": {},
     "output_type": "execute_result"
    }
   ],
   "source": [
    "#Exerciese 2 - Convert a 1-D array into a 2-D array with 3 rows\n",
    "exercise_2 = np.array([0, 1, 2, 3, 4, 5, 6, 7, 8])\n",
    "exercise_2.reshape(3,3)"
   ]
  },
  {
   "cell_type": "code",
   "execution_count": 34,
   "metadata": {},
   "outputs": [
    {
     "data": {
      "text/plain": [
       "array([[202, 203],\n",
       "       [204, 205]])"
      ]
     },
     "execution_count": 34,
     "metadata": {},
     "output_type": "execute_result"
    }
   ],
   "source": [
    "#Exercise 3 - Add 202 to all the values in given array\n",
    "exercise_3 = np.arange(4).reshape(2,-1)\n",
    "exercise_3 + 202"
   ]
  },
  {
   "cell_type": "code",
   "execution_count": 46,
   "metadata": {},
   "outputs": [
    {
     "data": {
      "text/plain": [
       "array([30, 40, 36, 31, 34, 31, 31, 31, 32, 39])"
      ]
     },
     "execution_count": 46,
     "metadata": {},
     "output_type": "execute_result"
    }
   ],
   "source": [
    "#Exercise 4 - Generate a 1-D array of 10 random integers. Each integer should be a number between 30 and 40 (inclusive)\n",
    "arr = np.random.randint(30,41,size=10)\n",
    "arr"
   ]
  },
  {
   "cell_type": "code",
   "execution_count": 7,
   "metadata": {},
   "outputs": [
    {
     "name": "stdout",
     "output_type": "stream",
     "text": [
      "[1, 4, 5, 6, 7, 8, 9]\n",
      "(array([1, 2, 4, 5, 6, 7, 8, 9], dtype=int64),)\n",
      "(array([0, 2], dtype=int64),)\n"
     ]
    }
   ],
   "source": [
    "#Exercie 5 - Find the positions of:\n",
    "\n",
    "#elements in x where its value is more than its corresponding element in y, and\n",
    "#elements in x where its value is equals to its corresponding element in y.\n",
    "x = np.array([21, 64, 86, 22, 74, 55, 81, 79, 90, 89]) \n",
    "y = np.array([21, 7, 86, 45, 10, 29, 55, 4, 37, 18])\n",
    "\n",
    "temp = []\n",
    "for i in range(len(x)):\n",
    "    if x[i]>y[i]:\n",
    "        temp.append(i)\n",
    "        \n",
    "print(temp)\n",
    "print(np.where(x>30))\n",
    "print(np.where(x==y))"
   ]
  },
  {
   "cell_type": "code",
   "execution_count": 68,
   "metadata": {},
   "outputs": [
    {
     "data": {
      "text/plain": [
       "array([[ 0,  1,  2,  3],\n",
       "       [20, 21, 22, 23],\n",
       "       [40, 41, 42, 43],\n",
       "       [60, 61, 62, 63],\n",
       "       [80, 81, 82, 83]])"
      ]
     },
     "execution_count": 68,
     "metadata": {},
     "output_type": "execute_result"
    }
   ],
   "source": [
    "#Exercise 6 - Extract the first four columns of this 2-D array\n",
    "exercise_6 = np.arange(100).reshape(5,-1)\n",
    "exercise_6[0:,0:4]"
   ]
  },
  {
   "cell_type": "markdown",
   "metadata": {},
   "source": [
    "### 100 Numpy Exercise Questions"
   ]
  },
  {
   "cell_type": "code",
   "execution_count": 69,
   "metadata": {},
   "outputs": [],
   "source": [
    "#1. Import the numpy package under the name np\n",
    "import numpy as np"
   ]
  },
  {
   "cell_type": "code",
   "execution_count": 71,
   "metadata": {},
   "outputs": [
    {
     "name": "stdout",
     "output_type": "stream",
     "text": [
      "1.18.4\n",
      "blas_mkl_info:\n",
      "  NOT AVAILABLE\n",
      "blis_info:\n",
      "  NOT AVAILABLE\n",
      "openblas_info:\n",
      "    library_dirs = ['C:\\\\projects\\\\numpy-wheels\\\\numpy\\\\build\\\\openblas_info']\n",
      "    libraries = ['openblas_info']\n",
      "    language = f77\n",
      "    define_macros = [('HAVE_CBLAS', None)]\n",
      "blas_opt_info:\n",
      "    library_dirs = ['C:\\\\projects\\\\numpy-wheels\\\\numpy\\\\build\\\\openblas_info']\n",
      "    libraries = ['openblas_info']\n",
      "    language = f77\n",
      "    define_macros = [('HAVE_CBLAS', None)]\n",
      "lapack_mkl_info:\n",
      "  NOT AVAILABLE\n",
      "openblas_lapack_info:\n",
      "    library_dirs = ['C:\\\\projects\\\\numpy-wheels\\\\numpy\\\\build\\\\openblas_lapack_info']\n",
      "    libraries = ['openblas_lapack_info']\n",
      "    language = f77\n",
      "    define_macros = [('HAVE_CBLAS', None)]\n",
      "lapack_opt_info:\n",
      "    library_dirs = ['C:\\\\projects\\\\numpy-wheels\\\\numpy\\\\build\\\\openblas_lapack_info']\n",
      "    libraries = ['openblas_lapack_info']\n",
      "    language = f77\n",
      "    define_macros = [('HAVE_CBLAS', None)]\n",
      "None\n"
     ]
    }
   ],
   "source": [
    "#2. Print the numpy version and the configuration\n",
    "print(np.__version__)\n",
    "print(np.show_config())"
   ]
  },
  {
   "cell_type": "code",
   "execution_count": 72,
   "metadata": {},
   "outputs": [
    {
     "data": {
      "text/plain": [
       "array([0., 0., 0., 0., 0., 0., 0., 0., 0., 0.])"
      ]
     },
     "execution_count": 72,
     "metadata": {},
     "output_type": "execute_result"
    }
   ],
   "source": [
    "#3. Create a null vector of size 10\n",
    "z = np.zeros(10)\n",
    "z"
   ]
  },
  {
   "cell_type": "code",
   "execution_count": 73,
   "metadata": {},
   "outputs": [],
   "source": [
    "#4. How to get the documentation of the numpy add function from the command line?"
   ]
  },
  {
   "cell_type": "code",
   "execution_count": 76,
   "metadata": {},
   "outputs": [
    {
     "data": {
      "text/plain": [
       "array([0., 0., 0., 0., 1., 0., 0., 0., 0., 0.])"
      ]
     },
     "execution_count": 76,
     "metadata": {},
     "output_type": "execute_result"
    }
   ],
   "source": [
    "#5. Create a null vector of size 10 but the fifth value which is 1\n",
    "z = np.zeros(10)\n",
    "z[4] = 1\n",
    "z"
   ]
  },
  {
   "cell_type": "code",
   "execution_count": 11,
   "metadata": {},
   "outputs": [
    {
     "name": "stdout",
     "output_type": "stream",
     "text": [
      "[[10 20]\n",
      " [30 40]]\n"
     ]
    },
    {
     "data": {
      "text/plain": [
       "array([[30, 40],\n",
       "       [10, 20]])"
      ]
     },
     "execution_count": 11,
     "metadata": {},
     "output_type": "execute_result"
    }
   ],
   "source": [
    "#6. Create a vector with values ranging from 10 to 49\n",
    "arr = np.arange(10,50,10).reshape(2,2)\n",
    "print(arr)\n",
    "arr[::-1]"
   ]
  },
  {
   "cell_type": "code",
   "execution_count": 80,
   "metadata": {},
   "outputs": [
    {
     "data": {
      "text/plain": [
       "array([49, 48, 47, 46, 45, 44, 43, 42, 41, 40, 39, 38, 37, 36, 35, 34, 33,\n",
       "       32, 31, 30, 29, 28, 27, 26, 25, 24, 23, 22, 21, 20, 19, 18, 17, 16,\n",
       "       15, 14, 13, 12, 11, 10])"
      ]
     },
     "execution_count": 80,
     "metadata": {},
     "output_type": "execute_result"
    }
   ],
   "source": [
    "#7. Reverse a vector (first element becomes last)\n",
    "arr[::-1]"
   ]
  },
  {
   "cell_type": "code",
   "execution_count": 81,
   "metadata": {},
   "outputs": [
    {
     "data": {
      "text/plain": [
       "array([[0, 1, 2],\n",
       "       [3, 4, 5],\n",
       "       [6, 7, 8]])"
      ]
     },
     "execution_count": 81,
     "metadata": {},
     "output_type": "execute_result"
    }
   ],
   "source": [
    "#8. Create a 3x3 matrix with values ranging from 0 to 8\n",
    "arr = np.arange(9).reshape(3,3)\n",
    "arr"
   ]
  },
  {
   "cell_type": "code",
   "execution_count": 95,
   "metadata": {},
   "outputs": [
    {
     "name": "stdout",
     "output_type": "stream",
     "text": [
      "(array([0, 0, 0, 1, 1], dtype=int64), array([0, 1, 2, 0, 1], dtype=int64))\n"
     ]
    }
   ],
   "source": [
    "#9. Find indices of non­zero elements from [1,2,0,0,4,0]\n",
    "\n",
    "print(np.where(arr<5))"
   ]
  },
  {
   "cell_type": "code",
   "execution_count": 97,
   "metadata": {},
   "outputs": [
    {
     "data": {
      "text/plain": [
       "array([[1., 0., 0.],\n",
       "       [0., 1., 0.],\n",
       "       [0., 0., 1.]])"
      ]
     },
     "execution_count": 97,
     "metadata": {},
     "output_type": "execute_result"
    }
   ],
   "source": [
    "#10. Create a 3x3 identity matrix\n",
    "z = np.eye(3)\n",
    "z"
   ]
  },
  {
   "cell_type": "code",
   "execution_count": 99,
   "metadata": {},
   "outputs": [
    {
     "data": {
      "text/plain": [
       "array([[[0.96816234, 0.8743382 , 0.62426777],\n",
       "        [0.2313171 , 0.40846505, 0.50163834],\n",
       "        [0.44636097, 0.17251748, 0.04755433]],\n",
       "\n",
       "       [[0.21823888, 0.35458936, 0.34879952],\n",
       "        [0.02782623, 0.55142196, 0.93339892],\n",
       "        [0.93839321, 0.79925927, 0.58875737]],\n",
       "\n",
       "       [[0.69658849, 0.80240318, 0.94792907],\n",
       "        [0.73976961, 0.9945752 , 0.4809197 ],\n",
       "        [0.33122616, 0.55607685, 0.64986406]]])"
      ]
     },
     "execution_count": 99,
     "metadata": {},
     "output_type": "execute_result"
    }
   ],
   "source": [
    "#11. Create a 3x3x3 array with random values\n",
    "z = np.random.random((3,3,3))\n",
    "z"
   ]
  },
  {
   "cell_type": "code",
   "execution_count": 106,
   "metadata": {},
   "outputs": [
    {
     "name": "stdout",
     "output_type": "stream",
     "text": [
      "[ 0 10 20 30 40 50 60 70 80 90]\n",
      "[ 9 19 29 39 49 59 69 79 89 99]\n"
     ]
    }
   ],
   "source": [
    "#12. Create a 10x10 array with random values and find the minimum and maximum values\n",
    "arr = np.arange(100).reshape(10,10)\n",
    "print(arr.min(axis=1))\n",
    "print(arr.max(axis=1))"
   ]
  },
  {
   "cell_type": "code",
   "execution_count": 107,
   "metadata": {},
   "outputs": [
    {
     "data": {
      "text/plain": [
       "14.5"
      ]
     },
     "execution_count": 107,
     "metadata": {},
     "output_type": "execute_result"
    }
   ],
   "source": [
    "#13. Create a random vector of size 30 and find the mean value\n",
    "arr = np.arange(30)\n",
    "arr.mean()"
   ]
  },
  {
   "cell_type": "code",
   "execution_count": 118,
   "metadata": {},
   "outputs": [
    {
     "data": {
      "text/plain": [
       "array([[1., 0., 1.],\n",
       "       [0., 0., 0.],\n",
       "       [1., 0., 1.]])"
      ]
     },
     "execution_count": 118,
     "metadata": {},
     "output_type": "execute_result"
    }
   ],
   "source": [
    "#14. Create a 2d array with 1 on the border and 0 inside\n",
    "arr = np.zeros(9).reshape(3,3)\n",
    "arr[0,0] = 1\n",
    "arr[0,-1]=1\n",
    "arr[-1,0]=1\n",
    "arr[-1,-1]=1\n",
    "arr"
   ]
  },
  {
   "cell_type": "code",
   "execution_count": 119,
   "metadata": {},
   "outputs": [
    {
     "data": {
      "text/plain": [
       "False"
      ]
     },
     "execution_count": 119,
     "metadata": {},
     "output_type": "execute_result"
    }
   ],
   "source": [
    "#15. What is the result of the following expression?\n",
    "0 * np.nan\n",
    "np.nan == np.nan\n",
    "np.inf > np.nan\n",
    "np.nan - np.nan\n",
    "0.3 == 3 * 0.1\n"
   ]
  },
  {
   "cell_type": "code",
   "execution_count": 123,
   "metadata": {},
   "outputs": [
    {
     "name": "stdout",
     "output_type": "stream",
     "text": [
      "[[0 0 0 0 0]\n",
      " [1 0 0 0 0]\n",
      " [0 2 0 0 0]\n",
      " [0 0 3 0 0]\n",
      " [0 0 0 4 0]]\n"
     ]
    }
   ],
   "source": [
    "#16. Create a 5x5 matrix with values 1,2,3,4 just below the diagona\n",
    "Z = np.diag(1+np.arange(4),k=-1)\n",
    "print(Z)\n"
   ]
  },
  {
   "cell_type": "code",
   "execution_count": 22,
   "metadata": {},
   "outputs": [
    {
     "data": {
      "text/plain": [
       "array([[ 0,  1,  2,  3,  4,  5,  6,  7],\n",
       "       [ 8,  9, 10, 11, 12, 13, 14, 15],\n",
       "       [16, 17, 18, 19, 20, 21, 22, 23],\n",
       "       [24, 25, 26, 27, 28, 29, 30, 31],\n",
       "       [32, 33, 34, 35, 36, 37, 38, 39],\n",
       "       [40, 41, 42, 43, 44, 45, 46, 47],\n",
       "       [48, 49, 50, 51, 52, 53, 54, 55],\n",
       "       [56, 57, 58, 59, 60, 61, 62, 63]])"
      ]
     },
     "execution_count": 22,
     "metadata": {},
     "output_type": "execute_result"
    }
   ],
   "source": [
    "arr"
   ]
  },
  {
   "cell_type": "code",
   "execution_count": 23,
   "metadata": {},
   "outputs": [
    {
     "data": {
      "text/plain": [
       "array([[ 0,  2,  4,  6],\n",
       "       [16, 18, 20, 22],\n",
       "       [32, 34, 36, 38],\n",
       "       [48, 50, 52, 54]])"
      ]
     },
     "execution_count": 23,
     "metadata": {},
     "output_type": "execute_result"
    }
   ],
   "source": [
    "#17. Create a 8x8 matrix and fill it with a checkerboard pattern (\n",
    "arr = np.arange(64).reshape(8,8)\n",
    "\n",
    "arr[::2,::2]"
   ]
  },
  {
   "cell_type": "code",
   "execution_count": 156,
   "metadata": {},
   "outputs": [
    {
     "data": {
      "text/plain": [
       "(array([6, 6, 6, 6, 6, 6, 7, 7, 7, 7, 7], dtype=int64),\n",
       " array([2, 3, 4, 5, 6, 7, 0, 1, 2, 3, 4], dtype=int64))"
      ]
     },
     "execution_count": 156,
     "metadata": {},
     "output_type": "execute_result"
    }
   ],
   "source": [
    "#18. Consider a (6,7,8) shape array, what is the index (x,y,z) of the 100th element?\n",
    "arr[np.where(arr>50)]\n",
    "\n",
    "np.where((arr>=50) & (arr<=60))"
   ]
  },
  {
   "cell_type": "code",
   "execution_count": 159,
   "metadata": {},
   "outputs": [
    {
     "name": "stdout",
     "output_type": "stream",
     "text": [
      "[[0 1 0 1 0 1 0 1]\n",
      " [1 0 1 0 1 0 1 0]\n",
      " [0 1 0 1 0 1 0 1]\n",
      " [1 0 1 0 1 0 1 0]\n",
      " [0 1 0 1 0 1 0 1]\n",
      " [1 0 1 0 1 0 1 0]\n",
      " [0 1 0 1 0 1 0 1]\n",
      " [1 0 1 0 1 0 1 0]]\n"
     ]
    }
   ],
   "source": [
    "#19. Create a checkerboard 8x8 matrix using the tile function \n",
    "Z = np.tile( np.array([[0,1],[1,0]]), (4,4))\n",
    "print(Z)\n"
   ]
  },
  {
   "cell_type": "code",
   "execution_count": 163,
   "metadata": {},
   "outputs": [
    {
     "name": "stdout",
     "output_type": "stream",
     "text": [
      "[[ 0  1  2  3  4]\n",
      " [ 5  6  7  8  9]\n",
      " [10 11 12 13 14]\n",
      " [15 16 17 18 19]\n",
      " [20 21 22 23 24]]\n"
     ]
    },
    {
     "data": {
      "text/plain": [
       "array([[ 0.,  1.,  2.,  3.,  4.],\n",
       "       [ 5.,  6.,  7.,  8.,  9.],\n",
       "       [10., 11., 12., 13., 14.],\n",
       "       [15., 16., 17., 18., 19.],\n",
       "       [20., 21., 22., 23., 24.]])"
      ]
     },
     "execution_count": 163,
     "metadata": {},
     "output_type": "execute_result"
    }
   ],
   "source": [
    "#20. Normalize a 5x5 random matrix\n",
    "arr = np.arange(25).reshape(5,5)\n",
    "print(arr)\n",
    "arr = arr-arr.min()/(arr.max() - arr.min())\n",
    "arr"
   ]
  },
  {
   "cell_type": "code",
   "execution_count": 166,
   "metadata": {},
   "outputs": [
    {
     "data": {
      "text/plain": [
       "array([[ 10,  13],\n",
       "       [ 28,  40],\n",
       "       [ 46,  67],\n",
       "       [ 64,  94],\n",
       "       [ 82, 121]])"
      ]
     },
     "execution_count": 166,
     "metadata": {},
     "output_type": "execute_result"
    }
   ],
   "source": [
    "#22. Multiply a 5x3 matrix by a 3x2 matrix (real matrix product)\n",
    "arr1 = np.arange(15).reshape(5,3)\n",
    "arr2 = np.arange(6).reshape(3,2)\n",
    "arr = np.dot(arr1,arr2)\n",
    "arr"
   ]
  },
  {
   "cell_type": "code",
   "execution_count": 171,
   "metadata": {},
   "outputs": [
    {
     "data": {
      "text/plain": [
       "array([4, 5, 6, 7])"
      ]
     },
     "execution_count": 171,
     "metadata": {},
     "output_type": "execute_result"
    }
   ],
   "source": [
    "#23. Given a 1D array, negate all elements which are between 3 and 8, in place\n",
    "arr = np.arange(9)\n",
    "arr[np.where((arr>3) & (arr<8))]"
   ]
  },
  {
   "cell_type": "code",
   "execution_count": 173,
   "metadata": {},
   "outputs": [
    {
     "name": "stdout",
     "output_type": "stream",
     "text": [
      "10\n",
      "10\n"
     ]
    },
    {
     "data": {
      "text/plain": [
       "36"
      ]
     },
     "execution_count": 173,
     "metadata": {},
     "output_type": "execute_result"
    }
   ],
   "source": [
    "#24. What is the output of the following script?\n",
    "# Author: Jake VanderPlas\n",
    "print(sum(range(5),-1))\n",
    "from numpy import *\n",
    "print(sum(range(5),-1))\n",
    "np.sum(arr)\n"
   ]
  },
  {
   "cell_type": "code",
   "execution_count": 177,
   "metadata": {},
   "outputs": [
    {
     "data": {
      "text/plain": [
       "array([ 1.        ,  1.18367347,  1.36734694,  1.55102041,  1.73469388,\n",
       "        1.91836735,  2.10204082,  2.28571429,  2.46938776,  2.65306122,\n",
       "        2.83673469,  3.02040816,  3.20408163,  3.3877551 ,  3.57142857,\n",
       "        3.75510204,  3.93877551,  4.12244898,  4.30612245,  4.48979592,\n",
       "        4.67346939,  4.85714286,  5.04081633,  5.2244898 ,  5.40816327,\n",
       "        5.59183673,  5.7755102 ,  5.95918367,  6.14285714,  6.32653061,\n",
       "        6.51020408,  6.69387755,  6.87755102,  7.06122449,  7.24489796,\n",
       "        7.42857143,  7.6122449 ,  7.79591837,  7.97959184,  8.16326531,\n",
       "        8.34693878,  8.53061224,  8.71428571,  8.89795918,  9.08163265,\n",
       "        9.26530612,  9.44897959,  9.63265306,  9.81632653, 10.        ])"
      ]
     },
     "execution_count": 177,
     "metadata": {},
     "output_type": "execute_result"
    }
   ],
   "source": [
    "#31. Create a vector of size 10 with values ranging from 0 to 1, both excluded\n",
    "z = np.linspace(1,10)\n",
    "z"
   ]
  },
  {
   "cell_type": "code",
   "execution_count": 182,
   "metadata": {},
   "outputs": [
    {
     "data": {
      "text/plain": [
       "array([0.09037578, 0.10202906, 0.15183388, 0.15830557, 0.24877677,\n",
       "       0.28750224, 0.35133212, 0.41954651, 0.74682248, 0.98065573])"
      ]
     },
     "execution_count": 182,
     "metadata": {},
     "output_type": "execute_result"
    }
   ],
   "source": [
    "#32. Create a random vector of size 10 and sort it\n",
    "arr = np.random.rand(10)\n",
    "arr.sort()\n",
    "arr"
   ]
  },
  {
   "cell_type": "code",
   "execution_count": 184,
   "metadata": {},
   "outputs": [
    {
     "data": {
      "text/plain": [
       "275.0"
      ]
     },
     "execution_count": 184,
     "metadata": {},
     "output_type": "execute_result"
    }
   ],
   "source": [
    "#33. How to sum a small array faster than np.sum?\n",
    "Z = np.arange(10)\n",
    "np.add.reduce(Z)\n",
    "np.sum(z)"
   ]
  },
  {
   "cell_type": "code",
   "execution_count": 192,
   "metadata": {},
   "outputs": [
    {
     "data": {
      "text/plain": [
       "False"
      ]
     },
     "execution_count": 192,
     "metadata": {},
     "output_type": "execute_result"
    }
   ],
   "source": [
    "#34. Consider two random array A anb B, check if they are equal\n",
    "A = np.random.randint(0,2,5)\n",
    "B = np.random.randint(0,2,5)\n",
    "equal = np.allclose(A,B)\n",
    "equal"
   ]
  },
  {
   "cell_type": "code",
   "execution_count": 193,
   "metadata": {},
   "outputs": [
    {
     "data": {
      "text/plain": [
       "array([0.30062565, 0.31941989, 0.38965868, 0.39787632, 0.49877527,\n",
       "       0.53619236, 0.59273276, 0.6477241 , 0.86418891, 0.99028063])"
      ]
     },
     "execution_count": 193,
     "metadata": {},
     "output_type": "execute_result"
    }
   ],
   "source": [
    "np.sqrt(arr)"
   ]
  },
  {
   "cell_type": "code",
   "execution_count": 197,
   "metadata": {},
   "outputs": [
    {
     "data": {
      "text/plain": [
       "array([0, 1, 2, 3, 4, 5, 6, 7, 8, 0])"
      ]
     },
     "execution_count": 197,
     "metadata": {},
     "output_type": "execute_result"
    }
   ],
   "source": [
    "#37. Create random vector of size 10 and replace the maximum value by 0\n",
    "arr = np.arange(10)\n",
    "arr[arr.max()] = 0\n",
    "arr"
   ]
  },
  {
   "cell_type": "code",
   "execution_count": 199,
   "metadata": {},
   "outputs": [
    {
     "data": {
      "text/plain": [
       "array([0, 1, 0, 3, 0, 5, 0, 7, 0, 9])"
      ]
     },
     "execution_count": 199,
     "metadata": {},
     "output_type": "execute_result"
    }
   ],
   "source": [
    "arr = np.arange(10)\n",
    "arr[arr%2==0] = 0\n",
    "arr"
   ]
  },
  {
   "cell_type": "code",
   "execution_count": 202,
   "metadata": {},
   "outputs": [
    {
     "name": "stdout",
     "output_type": "stream",
     "text": [
      "-128\n",
      "127\n",
      "-2147483648\n",
      "2147483647\n",
      "-9223372036854775808\n",
      "9223372036854775807\n",
      "-3.4028235e+38\n",
      "3.4028235e+38\n",
      "1.1920929e-07\n",
      "-1.7976931348623157e+308\n",
      "1.7976931348623157e+308\n",
      "2.220446049250313e-16\n"
     ]
    }
   ],
   "source": [
    "#40. Print the minimum and maximum representable value for each numpy scalar type\n",
    "for dtype in [np.int8, np.int32, np.int64]:\n",
    "    print(np.iinfo(dtype).min)\n",
    "    print(np.iinfo(dtype).max)\n",
    "for dtype in [np.float32, np.float64]:\n",
    "    print(np.finfo(dtype).min)\n",
    "    print(np.finfo(dtype).max)\n",
    "    print(np.finfo(dtype).eps)\n"
   ]
  },
  {
   "cell_type": "code",
   "execution_count": 5,
   "metadata": {},
   "outputs": [
    {
     "data": {
      "text/plain": [
       "array([[[[1, 3, 4]]]])"
      ]
     },
     "execution_count": 5,
     "metadata": {},
     "output_type": "execute_result"
    }
   ],
   "source": [
    "import numpy as np\n",
    "my_array = np.array([[[[1,3,4]]]])\n",
    "my_array"
   ]
  },
  {
   "cell_type": "code",
   "execution_count": 7,
   "metadata": {},
   "outputs": [
    {
     "data": {
      "text/plain": [
       "array([[[[[1, 3, 4]]]]])"
      ]
     },
     "execution_count": 7,
     "metadata": {},
     "output_type": "execute_result"
    }
   ],
   "source": [
    "np.array(my_array, ndmin=5)"
   ]
  },
  {
   "cell_type": "code",
   "execution_count": 10,
   "metadata": {},
   "outputs": [],
   "source": [
    "Array1 = np.array([[1, 2, 3], [4, 5, 6]]) \n",
    "Array2 = np.array([[2, 3],[3, 2]])"
   ]
  },
  {
   "cell_type": "code",
   "execution_count": 12,
   "metadata": {},
   "outputs": [
    {
     "ename": "ValueError",
     "evalue": "shapes (2,3) and (2,2) not aligned: 3 (dim 1) != 2 (dim 0)",
     "output_type": "error",
     "traceback": [
      "\u001b[1;31m---------------------------------------------------------------------------\u001b[0m",
      "\u001b[1;31mValueError\u001b[0m                                Traceback (most recent call last)",
      "\u001b[1;32m~\\AppData\\Local\\Temp\\ipykernel_10148\\136349620.py\u001b[0m in \u001b[0;36m<module>\u001b[1;34m\u001b[0m\n\u001b[1;32m----> 1\u001b[1;33m \u001b[0mnp\u001b[0m\u001b[1;33m.\u001b[0m\u001b[0mdot\u001b[0m\u001b[1;33m(\u001b[0m\u001b[0mArray1\u001b[0m\u001b[1;33m,\u001b[0m\u001b[0mArray2\u001b[0m\u001b[1;33m)\u001b[0m\u001b[1;33m\u001b[0m\u001b[1;33m\u001b[0m\u001b[0m\n\u001b[0m",
      "\u001b[1;32m<__array_function__ internals>\u001b[0m in \u001b[0;36mdot\u001b[1;34m(*args, **kwargs)\u001b[0m\n",
      "\u001b[1;31mValueError\u001b[0m: shapes (2,3) and (2,2) not aligned: 3 (dim 1) != 2 (dim 0)"
     ]
    }
   ],
   "source": [
    "np.dot(Array1,Array2)"
   ]
  },
  {
   "cell_type": "code",
   "execution_count": 13,
   "metadata": {},
   "outputs": [
    {
     "data": {
      "text/plain": [
       "array([[4, 1],\n",
       "       [2, 2]])"
      ]
     },
     "execution_count": 13,
     "metadata": {},
     "output_type": "execute_result"
    }
   ],
   "source": [
    "a = [[1, 0], [0, 1]]\n",
    "b = [[4, 1], [2, 2]] \n",
    "np.dot(a,b)"
   ]
  },
  {
   "cell_type": "code",
   "execution_count": 14,
   "metadata": {},
   "outputs": [
    {
     "data": {
      "text/plain": [
       "499128"
      ]
     },
     "execution_count": 14,
     "metadata": {},
     "output_type": "execute_result"
    }
   ],
   "source": [
    "a = np.arange(3*4*5*6).reshape((3,4,5,6))\n",
    "b = np.arange(3*4*5*6)[::-1].reshape((5,4,6,3))\n",
    "np.dot(a, b)[2,3,2,1,2,2]"
   ]
  },
  {
   "cell_type": "code",
   "execution_count": 16,
   "metadata": {},
   "outputs": [
    {
     "name": "stdout",
     "output_type": "stream",
     "text": [
      "[ 3.+0.j  7.+0.j 32.+0.j]\n"
     ]
    }
   ],
   "source": [
    "a = np.array([3, 7, 32], dtype = complex)\n",
    "print(a)"
   ]
  },
  {
   "cell_type": "code",
   "execution_count": 17,
   "metadata": {},
   "outputs": [
    {
     "data": {
      "text/plain": [
       "array([[1, 2],\n",
       "       [3, 4]])"
      ]
     },
     "execution_count": 17,
     "metadata": {},
     "output_type": "execute_result"
    }
   ],
   "source": [
    "array1 = np.array([[1,2],[3,4]])\n",
    "array1"
   ]
  },
  {
   "cell_type": "code",
   "execution_count": 22,
   "metadata": {},
   "outputs": [
    {
     "data": {
      "text/plain": [
       "array([1, 2, 3, 4, 1, 2, 3, 4])"
      ]
     },
     "execution_count": 22,
     "metadata": {},
     "output_type": "execute_result"
    }
   ],
   "source": [
    "array = np.array([10,3,1,203,404,204,20,302,30,402,192])  \n",
    "array2 = [1,2,3,4]\n",
    "np.insert(array1, 4, array2)"
   ]
  },
  {
   "cell_type": "code",
   "execution_count": 26,
   "metadata": {},
   "outputs": [
    {
     "data": {
      "text/plain": [
       "array([['k', 'k', 'k'],\n",
       "       ['k', 'k', 'k'],\n",
       "       ['k', 'k', 'k']], dtype='<U1')"
      ]
     },
     "execution_count": 26,
     "metadata": {},
     "output_type": "execute_result"
    }
   ],
   "source": [
    "np.full((3,3), 'k')"
   ]
  },
  {
   "cell_type": "code",
   "execution_count": 30,
   "metadata": {},
   "outputs": [],
   "source": [
    "def bub_sort(array):\n",
    "    for i in range(0, len(array)):\n",
    "        for j in range(0, len(array) - i - 1):\n",
    "            if array[j] < array[j + 1]:\n",
    "                temp = array[j]\n",
    "                array[j] = array[j + 1]\n",
    "                array[j+1] = temp\n",
    "                return array\n",
    "            my_array = np.array([20,14,25,16,45,60,12,9])"
   ]
  },
  {
   "cell_type": "code",
   "execution_count": 31,
   "metadata": {},
   "outputs": [
    {
     "data": {
      "text/plain": [
       "array([[[[1, 3, 4]]]])"
      ]
     },
     "execution_count": 31,
     "metadata": {},
     "output_type": "execute_result"
    }
   ],
   "source": [
    "my_array"
   ]
  },
  {
   "cell_type": "code",
   "execution_count": 40,
   "metadata": {},
   "outputs": [
    {
     "data": {
      "text/plain": [
       "array([2, 5, 8])"
      ]
     },
     "execution_count": 40,
     "metadata": {},
     "output_type": "execute_result"
    }
   ],
   "source": [
    "Sample = np.array([[1,2,3],[4,5,6],[7,8,9],[10,11,12],[13,14,15]])\n",
    "Sample[0:3,1]"
   ]
  },
  {
   "cell_type": "code",
   "execution_count": 38,
   "metadata": {},
   "outputs": [
    {
     "data": {
      "text/plain": [
       "array([[ 1,  2,  3],\n",
       "       [ 4,  5,  6],\n",
       "       [ 7,  8,  9],\n",
       "       [10, 11, 12],\n",
       "       [13, 14, 15]])"
      ]
     },
     "execution_count": 38,
     "metadata": {},
     "output_type": "execute_result"
    }
   ],
   "source": [
    "Sample"
   ]
  },
  {
   "cell_type": "code",
   "execution_count": 42,
   "metadata": {},
   "outputs": [],
   "source": [
    "A = np.array([[4],[12],[29]])\n",
    "B = np.array([[13],[21],[4]])"
   ]
  },
  {
   "cell_type": "code",
   "execution_count": 43,
   "metadata": {},
   "outputs": [
    {
     "data": {
      "text/plain": [
       "array([[[[-8957.+0.j, 10417.+0.j, -1439.+0.j],\n",
       "         [-8882.+0.j, 10330.+0.j, -1427.+0.j],\n",
       "         [-8807.+0.j, 10243.+0.j, -1415.+0.j],\n",
       "         [-8732.+0.j, 10156.+0.j, -1403.+0.j],\n",
       "         [-8657.+0.j, 10069.+0.j, -1391.+0.j],\n",
       "         [-8582.+0.j,  9982.+0.j, -1379.+0.j]],\n",
       "\n",
       "        [[-8507.+0.j,  9895.+0.j, -1367.+0.j],\n",
       "         [-8432.+0.j,  9808.+0.j, -1355.+0.j],\n",
       "         [-8357.+0.j,  9721.+0.j, -1343.+0.j],\n",
       "         [-8282.+0.j,  9634.+0.j, -1331.+0.j],\n",
       "         [-8207.+0.j,  9547.+0.j, -1319.+0.j],\n",
       "         [-8132.+0.j,  9460.+0.j, -1307.+0.j]],\n",
       "\n",
       "        [[-8057.+0.j,  9373.+0.j, -1295.+0.j],\n",
       "         [-7982.+0.j,  9286.+0.j, -1283.+0.j],\n",
       "         [-7907.+0.j,  9199.+0.j, -1271.+0.j],\n",
       "         [-7832.+0.j,  9112.+0.j, -1259.+0.j],\n",
       "         [-7757.+0.j,  9025.+0.j, -1247.+0.j],\n",
       "         [-7682.+0.j,  8938.+0.j, -1235.+0.j]],\n",
       "\n",
       "        [[-7607.+0.j,  8851.+0.j, -1223.+0.j],\n",
       "         [-7532.+0.j,  8764.+0.j, -1211.+0.j],\n",
       "         [-7457.+0.j,  8677.+0.j, -1199.+0.j],\n",
       "         [-7382.+0.j,  8590.+0.j, -1187.+0.j],\n",
       "         [-7307.+0.j,  8503.+0.j, -1175.+0.j],\n",
       "         [-7232.+0.j,  8416.+0.j, -1163.+0.j]]],\n",
       "\n",
       "\n",
       "       [[[-7157.+0.j,  8329.+0.j, -1151.+0.j],\n",
       "         [-7082.+0.j,  8242.+0.j, -1139.+0.j],\n",
       "         [-7007.+0.j,  8155.+0.j, -1127.+0.j],\n",
       "         [-6932.+0.j,  8068.+0.j, -1115.+0.j],\n",
       "         [-6857.+0.j,  7981.+0.j, -1103.+0.j],\n",
       "         [-6782.+0.j,  7894.+0.j, -1091.+0.j]],\n",
       "\n",
       "        [[-6707.+0.j,  7807.+0.j, -1079.+0.j],\n",
       "         [-6632.+0.j,  7720.+0.j, -1067.+0.j],\n",
       "         [-6557.+0.j,  7633.+0.j, -1055.+0.j],\n",
       "         [-6482.+0.j,  7546.+0.j, -1043.+0.j],\n",
       "         [-6407.+0.j,  7459.+0.j, -1031.+0.j],\n",
       "         [-6332.+0.j,  7372.+0.j, -1019.+0.j]],\n",
       "\n",
       "        [[-6257.+0.j,  7285.+0.j, -1007.+0.j],\n",
       "         [-6182.+0.j,  7198.+0.j,  -995.+0.j],\n",
       "         [-6107.+0.j,  7111.+0.j,  -983.+0.j],\n",
       "         [-6032.+0.j,  7024.+0.j,  -971.+0.j],\n",
       "         [-5957.+0.j,  6937.+0.j,  -959.+0.j],\n",
       "         [-5882.+0.j,  6850.+0.j,  -947.+0.j]],\n",
       "\n",
       "        [[-5807.+0.j,  6763.+0.j,  -935.+0.j],\n",
       "         [-5732.+0.j,  6676.+0.j,  -923.+0.j],\n",
       "         [-5657.+0.j,  6589.+0.j,  -911.+0.j],\n",
       "         [-5582.+0.j,  6502.+0.j,  -899.+0.j],\n",
       "         [-5507.+0.j,  6415.+0.j,  -887.+0.j],\n",
       "         [-5432.+0.j,  6328.+0.j,  -875.+0.j]]],\n",
       "\n",
       "\n",
       "       [[[-5357.+0.j,  6241.+0.j,  -863.+0.j],\n",
       "         [-5282.+0.j,  6154.+0.j,  -851.+0.j],\n",
       "         [-5207.+0.j,  6067.+0.j,  -839.+0.j],\n",
       "         [-5132.+0.j,  5980.+0.j,  -827.+0.j],\n",
       "         [-5057.+0.j,  5893.+0.j,  -815.+0.j],\n",
       "         [-4982.+0.j,  5806.+0.j,  -803.+0.j]],\n",
       "\n",
       "        [[-4907.+0.j,  5719.+0.j,  -791.+0.j],\n",
       "         [-4832.+0.j,  5632.+0.j,  -779.+0.j],\n",
       "         [-4757.+0.j,  5545.+0.j,  -767.+0.j],\n",
       "         [-4682.+0.j,  5458.+0.j,  -755.+0.j],\n",
       "         [-4607.+0.j,  5371.+0.j,  -743.+0.j],\n",
       "         [-4532.+0.j,  5284.+0.j,  -731.+0.j]],\n",
       "\n",
       "        [[-4457.+0.j,  5197.+0.j,  -719.+0.j],\n",
       "         [-4382.+0.j,  5110.+0.j,  -707.+0.j],\n",
       "         [-4307.+0.j,  5023.+0.j,  -695.+0.j],\n",
       "         [-4232.+0.j,  4936.+0.j,  -683.+0.j],\n",
       "         [-4157.+0.j,  4849.+0.j,  -671.+0.j],\n",
       "         [-4082.+0.j,  4762.+0.j,  -659.+0.j]],\n",
       "\n",
       "        [[-4007.+0.j,  4675.+0.j,  -647.+0.j],\n",
       "         [-3932.+0.j,  4588.+0.j,  -635.+0.j],\n",
       "         [-3857.+0.j,  4501.+0.j,  -623.+0.j],\n",
       "         [-3782.+0.j,  4414.+0.j,  -611.+0.j],\n",
       "         [-3707.+0.j,  4327.+0.j,  -599.+0.j],\n",
       "         [-3632.+0.j,  4240.+0.j,  -587.+0.j]]],\n",
       "\n",
       "\n",
       "       [[[-3557.+0.j,  4153.+0.j,  -575.+0.j],\n",
       "         [-3482.+0.j,  4066.+0.j,  -563.+0.j],\n",
       "         [-3407.+0.j,  3979.+0.j,  -551.+0.j],\n",
       "         [-3332.+0.j,  3892.+0.j,  -539.+0.j],\n",
       "         [-3257.+0.j,  3805.+0.j,  -527.+0.j],\n",
       "         [-3182.+0.j,  3718.+0.j,  -515.+0.j]],\n",
       "\n",
       "        [[-3107.+0.j,  3631.+0.j,  -503.+0.j],\n",
       "         [-3032.+0.j,  3544.+0.j,  -491.+0.j],\n",
       "         [-2957.+0.j,  3457.+0.j,  -479.+0.j],\n",
       "         [-2882.+0.j,  3370.+0.j,  -467.+0.j],\n",
       "         [-2807.+0.j,  3283.+0.j,  -455.+0.j],\n",
       "         [-2732.+0.j,  3196.+0.j,  -443.+0.j]],\n",
       "\n",
       "        [[-2657.+0.j,  3109.+0.j,  -431.+0.j],\n",
       "         [-2582.+0.j,  3022.+0.j,  -419.+0.j],\n",
       "         [-2507.+0.j,  2935.+0.j,  -407.+0.j],\n",
       "         [-2432.+0.j,  2848.+0.j,  -395.+0.j],\n",
       "         [-2357.+0.j,  2761.+0.j,  -383.+0.j],\n",
       "         [-2282.+0.j,  2674.+0.j,  -371.+0.j]],\n",
       "\n",
       "        [[-2207.+0.j,  2587.+0.j,  -359.+0.j],\n",
       "         [-2132.+0.j,  2500.+0.j,  -347.+0.j],\n",
       "         [-2057.+0.j,  2413.+0.j,  -335.+0.j],\n",
       "         [-1982.+0.j,  2326.+0.j,  -323.+0.j],\n",
       "         [-1907.+0.j,  2239.+0.j,  -311.+0.j],\n",
       "         [-1832.+0.j,  2152.+0.j,  -299.+0.j]]],\n",
       "\n",
       "\n",
       "       [[[-1757.+0.j,  2065.+0.j,  -287.+0.j],\n",
       "         [-1682.+0.j,  1978.+0.j,  -275.+0.j],\n",
       "         [-1607.+0.j,  1891.+0.j,  -263.+0.j],\n",
       "         [-1532.+0.j,  1804.+0.j,  -251.+0.j],\n",
       "         [-1457.+0.j,  1717.+0.j,  -239.+0.j],\n",
       "         [-1382.+0.j,  1630.+0.j,  -227.+0.j]],\n",
       "\n",
       "        [[-1307.+0.j,  1543.+0.j,  -215.+0.j],\n",
       "         [-1232.+0.j,  1456.+0.j,  -203.+0.j],\n",
       "         [-1157.+0.j,  1369.+0.j,  -191.+0.j],\n",
       "         [-1082.+0.j,  1282.+0.j,  -179.+0.j],\n",
       "         [-1007.+0.j,  1195.+0.j,  -167.+0.j],\n",
       "         [ -932.+0.j,  1108.+0.j,  -155.+0.j]],\n",
       "\n",
       "        [[ -857.+0.j,  1021.+0.j,  -143.+0.j],\n",
       "         [ -782.+0.j,   934.+0.j,  -131.+0.j],\n",
       "         [ -707.+0.j,   847.+0.j,  -119.+0.j],\n",
       "         [ -632.+0.j,   760.+0.j,  -107.+0.j],\n",
       "         [ -557.+0.j,   673.+0.j,   -95.+0.j],\n",
       "         [ -482.+0.j,   586.+0.j,   -83.+0.j]],\n",
       "\n",
       "        [[ -407.+0.j,   499.+0.j,   -71.+0.j],\n",
       "         [ -332.+0.j,   412.+0.j,   -59.+0.j],\n",
       "         [ -257.+0.j,   325.+0.j,   -47.+0.j],\n",
       "         [ -182.+0.j,   238.+0.j,   -35.+0.j],\n",
       "         [ -107.+0.j,   151.+0.j,   -23.+0.j],\n",
       "         [  -32.+0.j,    64.+0.j,   -11.+0.j]]]])"
      ]
     },
     "execution_count": 43,
     "metadata": {},
     "output_type": "execute_result"
    }
   ],
   "source": [
    "np.cross(a,b)"
   ]
  },
  {
   "cell_type": "code",
   "execution_count": 45,
   "metadata": {},
   "outputs": [
    {
     "name": "stdout",
     "output_type": "stream",
     "text": [
      "[[1. 1.]\n",
      " [1. 1.]]\n"
     ]
    }
   ],
   "source": [
    "A = np.array([1,3,5,7,9,11,13,15,17,19,21,23,25])\n",
    "B = np.array([0,2,4,6,8,10,12,14,16,18,20, 22, 24])\n",
    "\n",
    "my_rho = np.corrcoef(A, B)\n",
    "\n",
    "print(my_rho)"
   ]
  },
  {
   "cell_type": "code",
   "execution_count": 46,
   "metadata": {},
   "outputs": [
    {
     "data": {
      "text/plain": [
       "array([[3, 2, 1],\n",
       "       [6, 4, 5],\n",
       "       [8, 7, 9]])"
      ]
     },
     "execution_count": 46,
     "metadata": {},
     "output_type": "execute_result"
    }
   ],
   "source": [
    "arr1= np.array([[3,2,1],[6,4,5],[8,7,9]])\n",
    "arr1"
   ]
  },
  {
   "cell_type": "code",
   "execution_count": 58,
   "metadata": {},
   "outputs": [
    {
     "data": {
      "text/plain": [
       "array([8, 7, 9])"
      ]
     },
     "execution_count": 58,
     "metadata": {},
     "output_type": "execute_result"
    }
   ],
   "source": [
    "np.max(arr1,axis=0)"
   ]
  },
  {
   "cell_type": "code",
   "execution_count": 59,
   "metadata": {},
   "outputs": [
    {
     "data": {
      "text/plain": [
       "array([1, 4, 7])"
      ]
     },
     "execution_count": 59,
     "metadata": {},
     "output_type": "execute_result"
    }
   ],
   "source": [
    "np.min(arr1,axis=1)"
   ]
  },
  {
   "cell_type": "code",
   "execution_count": null,
   "metadata": {},
   "outputs": [],
   "source": []
  }
 ],
 "metadata": {
  "kernelspec": {
   "display_name": "Python 3 (ipykernel)",
   "language": "python",
   "name": "python3"
  },
  "language_info": {
   "codemirror_mode": {
    "name": "ipython",
    "version": 3
   },
   "file_extension": ".py",
   "mimetype": "text/x-python",
   "name": "python",
   "nbconvert_exporter": "python",
   "pygments_lexer": "ipython3",
   "version": "3.7.3"
  }
 },
 "nbformat": 4,
 "nbformat_minor": 2
}
