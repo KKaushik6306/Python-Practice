{
 "cells": [
  {
   "cell_type": "markdown",
   "metadata": {},
   "source": [
    "List Items\n",
    "List items are ordered, changeable, and allow duplicate values.\n",
    "\n",
    "List items are indexed, the first item has index [0], the second item has index [1] etc."
   ]
  },
  {
   "cell_type": "code",
   "execution_count": 3,
   "metadata": {},
   "outputs": [
    {
     "name": "stdout",
     "output_type": "stream",
     "text": [
      "[2, 2, 'Karan', 4, 5, 5, 5]\n"
     ]
    }
   ],
   "source": [
    "a = [2,4,5,5,5,2,3]\n",
    "a.sort()\n",
    "a[2] = 'Karan'\n",
    "print(a)"
   ]
  },
  {
   "cell_type": "code",
   "execution_count": 4,
   "metadata": {},
   "outputs": [
    {
     "name": "stdout",
     "output_type": "stream",
     "text": [
      "<class 'list'>\n"
     ]
    }
   ],
   "source": [
    "mylist = [\"apple\", \"banana\", \"cherry\"]\n",
    "print(type(mylist))"
   ]
  },
  {
   "cell_type": "markdown",
   "metadata": {},
   "source": [
    "######  Information\n",
    "List is a collection which is ordered and changeable. Allows duplicate members.<br>\n",
    "Tuple is a collection which is ordered and unchangeable. Allows duplicate members.<br>\n",
    "Set is a collection which is unordered, unchangeable*, and unindexed. No duplicate members.<br>\n",
    "Dictionary is a collection which is ordered** and changeable. No duplicate members.<br>"
   ]
  },
  {
   "cell_type": "code",
   "execution_count": 16,
   "metadata": {},
   "outputs": [
    {
     "name": "stdout",
     "output_type": "stream",
     "text": [
      "1\n",
      "1\n",
      "{2, 4, 44, 23}\n"
     ]
    }
   ],
   "source": [
    "a = [1,2,2,1,3,4]\n",
    "print(a[0])\n",
    "b = (1,2,4,4,4,3,3,3,)\n",
    "print(b[0])\n",
    "#b[0]=10 - This is unchangeable\n",
    "a = {2,4,4,44,23,23,23}\n",
    "print(a)"
   ]
  },
  {
   "cell_type": "code",
   "execution_count": 1,
   "metadata": {},
   "outputs": [
    {
     "name": "stdout",
     "output_type": "stream",
     "text": [
      "['a', 'b', 'c', 1, 2, 3]\n"
     ]
    }
   ],
   "source": [
    "list1 = [\"a\", \"b\", \"c\"]\n",
    "list2 = [1, 2, 3]\n",
    "\n",
    "list3 = list1 + list2\n",
    "print(list3)"
   ]
  },
  {
   "cell_type": "markdown",
   "metadata": {},
   "source": [
    "Method\tDescription<br>\n",
    "append()\tAdds an element at the end of the list<br>\n",
    "clear()\tRemoves all the elements from the list<br>\n",
    "copy()\tReturns a copy of the list<br>\n",
    "count()\tReturns the number of elements with the specified value<br>\n",
    "extend()\tAdd the elements of a list (or any iterable), to the end of the current list<br>\n",
    "index()\tReturns the index of the first element with the specified value<br>\n",
    "insert()\tAdds an element at the specified position<br>\n",
    "pop()\tRemoves the element at the specified position<br>\n",
    "remove()\tRemoves the item with the specified value<br>\n",
    "reverse()\tReverses the order of the list<br>\n",
    "sort()\tSorts the list<br>"
   ]
  },
  {
   "cell_type": "code",
   "execution_count": 2,
   "metadata": {},
   "outputs": [
    {
     "data": {
      "text/plain": [
       "1"
      ]
     },
     "execution_count": 2,
     "metadata": {},
     "output_type": "execute_result"
    }
   ],
   "source": [
    "list1.count('a')"
   ]
  },
  {
   "cell_type": "code",
   "execution_count": 5,
   "metadata": {},
   "outputs": [
    {
     "data": {
      "text/plain": [
       "['Karan', 'Karan', 'a', 'b', 'c']"
      ]
     },
     "execution_count": 5,
     "metadata": {},
     "output_type": "execute_result"
    }
   ],
   "source": [
    "list1.index('a')\n",
    "list1.insert(0,'Karan')\n",
    "list1"
   ]
  },
  {
   "cell_type": "code",
   "execution_count": 6,
   "metadata": {},
   "outputs": [
    {
     "ename": "NameError",
     "evalue": "name 'o' is not defined",
     "output_type": "error",
     "traceback": [
      "\u001b[1;31m---------------------------------------------------------------------------\u001b[0m",
      "\u001b[1;31mNameError\u001b[0m                                 Traceback (most recent call last)",
      "\u001b[1;32m~\\AppData\\Local\\Temp\\ipykernel_9928\\88223248.py\u001b[0m in \u001b[0;36m<module>\u001b[1;34m\u001b[0m\n\u001b[1;32m----> 1\u001b[1;33m \u001b[0mlist1\u001b[0m\u001b[1;33m.\u001b[0m\u001b[0mpop\u001b[0m\u001b[1;33m(\u001b[0m\u001b[0mo\u001b[0m\u001b[1;33m)\u001b[0m\u001b[1;33m\u001b[0m\u001b[1;33m\u001b[0m\u001b[0m\n\u001b[0m\u001b[0;32m      2\u001b[0m \u001b[0mlist1\u001b[0m\u001b[1;33m\u001b[0m\u001b[1;33m\u001b[0m\u001b[0m\n",
      "\u001b[1;31mNameError\u001b[0m: name 'o' is not defined"
     ]
    }
   ],
   "source": [
    "list1.pop(o)\n",
    "list1"
   ]
  },
  {
   "cell_type": "code",
   "execution_count": 17,
   "metadata": {},
   "outputs": [
    {
     "data": {
      "text/plain": [
       "True"
      ]
     },
     "execution_count": 17,
     "metadata": {},
     "output_type": "execute_result"
    }
   ],
   "source": [
    "def check_prime(x):\n",
    "    for i in range(2,x):\n",
    "        if x%i==0:  \n",
    "            return False\n",
    "    return True\n",
    "\n",
    "a = check_prime(5)\n",
    "a"
   ]
  },
  {
   "cell_type": "code",
   "execution_count": 27,
   "metadata": {},
   "outputs": [
    {
     "data": {
      "text/plain": [
       "[[2, 4, 5], [1, 3, 5]]"
      ]
     },
     "execution_count": 27,
     "metadata": {},
     "output_type": "execute_result"
    }
   ],
   "source": [
    "a = [2,5,4]\n",
    "b=[1,5,3]\n",
    "\n",
    "main_list = []\n",
    "a.sort()\n",
    "b.sort()\n",
    "main_list.append(a)\n",
    "main_list.append(b)\n",
    "main_list"
   ]
  },
  {
   "cell_type": "code",
   "execution_count": 30,
   "metadata": {},
   "outputs": [
    {
     "data": {
      "text/plain": [
       "True"
      ]
     },
     "execution_count": 30,
     "metadata": {},
     "output_type": "execute_result"
    }
   ],
   "source": [
    "def check_anagram(str1,str2):\n",
    "    return sorted(str1)==sorted(str2)\n",
    "\n",
    "check_anagram('listen','silent')"
   ]
  },
  {
   "cell_type": "code",
   "execution_count": 55,
   "metadata": {},
   "outputs": [
    {
     "name": "stdout",
     "output_type": "stream",
     "text": [
      "6\n",
      "4 3 7 2 6 1\n",
      "3\n"
     ]
    }
   ],
   "source": [
    "n = int(input())\n",
    "a = input().split(' ')\n",
    "a = list(a)\n",
    "\n",
    "ans = int(a[0])\n",
    "counter=0\n",
    "for i in a:\n",
    "    if int(i)<ans:\n",
    "        ans = int(i)\n",
    "        counter+=1\n",
    "\n",
    "print(counter)"
   ]
  },
  {
   "cell_type": "code",
   "execution_count": null,
   "metadata": {},
   "outputs": [],
   "source": [
    "def binary_search(lst,index):\n",
    "    print(lst[index-1])\n",
    "    \n",
    "binary_search([1,2,3,4,5],5)"
   ]
  },
  {
   "cell_type": "code",
   "execution_count": 57,
   "metadata": {},
   "outputs": [
    {
     "name": "stdout",
     "output_type": "stream",
     "text": [
      "1\n"
     ]
    }
   ],
   "source": [
    "a = 1\n",
    "print(a)"
   ]
  },
  {
   "cell_type": "code",
   "execution_count": 64,
   "metadata": {},
   "outputs": [
    {
     "name": "stdout",
     "output_type": "stream",
     "text": [
      "4\n",
      "1 3\n",
      "2 4\n",
      "2 3\n",
      "4 5\n",
      "37\n"
     ]
    }
   ],
   "source": [
    "n = int(input())\n",
    "\n",
    "res = 0\n",
    "for i in range(n):\n",
    "    b = list(map(int,input().split(' ')))\n",
    "    mult = b[0]*b[1]\n",
    "    res = res + mult\n",
    "    \n",
    "print(res)"
   ]
  },
  {
   "cell_type": "code",
   "execution_count": 69,
   "metadata": {},
   "outputs": [
    {
     "name": "stdout",
     "output_type": "stream",
     "text": [
      "8\n"
     ]
    }
   ],
   "source": [
    "def func_(x):\n",
    "    global a\n",
    "    a = 2*4\n",
    "    print(a)\n",
    "    \n",
    "func_(4)"
   ]
  },
  {
   "cell_type": "code",
   "execution_count": 70,
   "metadata": {},
   "outputs": [
    {
     "data": {
      "text/plain": [
       "8"
      ]
     },
     "execution_count": 70,
     "metadata": {},
     "output_type": "execute_result"
    }
   ],
   "source": [
    "a"
   ]
  },
  {
   "cell_type": "code",
   "execution_count": 73,
   "metadata": {},
   "outputs": [
    {
     "data": {
      "text/html": [
       "<div>\n",
       "<style scoped>\n",
       "    .dataframe tbody tr th:only-of-type {\n",
       "        vertical-align: middle;\n",
       "    }\n",
       "\n",
       "    .dataframe tbody tr th {\n",
       "        vertical-align: top;\n",
       "    }\n",
       "\n",
       "    .dataframe thead th {\n",
       "        text-align: right;\n",
       "    }\n",
       "</style>\n",
       "<table border=\"1\" class=\"dataframe\">\n",
       "  <thead>\n",
       "    <tr style=\"text-align: right;\">\n",
       "      <th></th>\n",
       "      <th>Timestamp</th>\n",
       "      <th>A</th>\n",
       "      <th>B</th>\n",
       "      <th>C</th>\n",
       "      <th>D</th>\n",
       "      <th>E</th>\n",
       "      <th>F</th>\n",
       "    </tr>\n",
       "  </thead>\n",
       "  <tbody>\n",
       "    <tr>\n",
       "      <th>0</th>\n",
       "      <td>01-01-2023 00:00</td>\n",
       "      <td>614.934184</td>\n",
       "      <td>776.273590</td>\n",
       "      <td>749.368866</td>\n",
       "      <td>519.754303</td>\n",
       "      <td>515.661652</td>\n",
       "      <td>451.017609</td>\n",
       "    </tr>\n",
       "    <tr>\n",
       "      <th>1</th>\n",
       "      <td>01-01-2023 00:01</td>\n",
       "      <td>615.019114</td>\n",
       "      <td>776.656036</td>\n",
       "      <td>749.001261</td>\n",
       "      <td>519.934815</td>\n",
       "      <td>515.843262</td>\n",
       "      <td>450.824636</td>\n",
       "    </tr>\n",
       "    <tr>\n",
       "      <th>2</th>\n",
       "      <td>01-01-2023 00:02</td>\n",
       "      <td>614.912598</td>\n",
       "      <td>776.601227</td>\n",
       "      <td>749.341980</td>\n",
       "      <td>520.385468</td>\n",
       "      <td>515.672557</td>\n",
       "      <td>450.618317</td>\n",
       "    </tr>\n",
       "    <tr>\n",
       "      <th>3</th>\n",
       "      <td>01-01-2023 00:03</td>\n",
       "      <td>614.344421</td>\n",
       "      <td>776.312561</td>\n",
       "      <td>750.089223</td>\n",
       "      <td>520.333109</td>\n",
       "      <td>515.448873</td>\n",
       "      <td>450.478394</td>\n",
       "    </tr>\n",
       "    <tr>\n",
       "      <th>4</th>\n",
       "      <td>01-01-2023 00:04</td>\n",
       "      <td>613.994395</td>\n",
       "      <td>775.686198</td>\n",
       "      <td>749.823273</td>\n",
       "      <td>519.717204</td>\n",
       "      <td>515.456787</td>\n",
       "      <td>450.358175</td>\n",
       "    </tr>\n",
       "  </tbody>\n",
       "</table>\n",
       "</div>"
      ],
      "text/plain": [
       "          Timestamp           A           B           C           D  \\\n",
       "0  01-01-2023 00:00  614.934184  776.273590  749.368866  519.754303   \n",
       "1  01-01-2023 00:01  615.019114  776.656036  749.001261  519.934815   \n",
       "2  01-01-2023 00:02  614.912598  776.601227  749.341980  520.385468   \n",
       "3  01-01-2023 00:03  614.344421  776.312561  750.089223  520.333109   \n",
       "4  01-01-2023 00:04  613.994395  775.686198  749.823273  519.717204   \n",
       "\n",
       "            E           F  \n",
       "0  515.661652  451.017609  \n",
       "1  515.843262  450.824636  \n",
       "2  515.672557  450.618317  \n",
       "3  515.448873  450.478394  \n",
       "4  515.456787  450.358175  "
      ]
     },
     "execution_count": 73,
     "metadata": {},
     "output_type": "execute_result"
    }
   ],
   "source": [
    "import pandas as pd\n",
    "df = pd.read_csv('Test.csv')\n",
    "df.head()"
   ]
  },
  {
   "cell_type": "code",
   "execution_count": 79,
   "metadata": {},
   "outputs": [
    {
     "name": "stdout",
     "output_type": "stream",
     "text": [
      "<class 'pandas.core.frame.DataFrame'>\n",
      "RangeIndex: 46 entries, 0 to 45\n",
      "Data columns (total 7 columns):\n",
      " #   Column     Non-Null Count  Dtype  \n",
      "---  ------     --------------  -----  \n",
      " 0   Timestamp  46 non-null     object \n",
      " 1   A          46 non-null     float64\n",
      " 2   B          46 non-null     float64\n",
      " 3   C          46 non-null     float64\n",
      " 4   D          46 non-null     float64\n",
      " 5   E          46 non-null     float64\n",
      " 6   F          46 non-null     float64\n",
      "dtypes: float64(6), object(1)\n",
      "memory usage: 2.6+ KB\n"
     ]
    }
   ],
   "source": [
    "df.info()"
   ]
  },
  {
   "cell_type": "code",
   "execution_count": 92,
   "metadata": {},
   "outputs": [],
   "source": [
    "import datetime as dt\n",
    "df['Timestamp'] = pd.to_datetime(df['Timestamp'])\n",
    "df['Month'] = df['Timestamp'].dt.month\n",
    "df['Year'] = df['Timestamp'].dt.year"
   ]
  },
  {
   "cell_type": "code",
   "execution_count": 93,
   "metadata": {},
   "outputs": [
    {
     "data": {
      "text/html": [
       "<div>\n",
       "<style scoped>\n",
       "    .dataframe tbody tr th:only-of-type {\n",
       "        vertical-align: middle;\n",
       "    }\n",
       "\n",
       "    .dataframe tbody tr th {\n",
       "        vertical-align: top;\n",
       "    }\n",
       "\n",
       "    .dataframe thead th {\n",
       "        text-align: right;\n",
       "    }\n",
       "</style>\n",
       "<table border=\"1\" class=\"dataframe\">\n",
       "  <thead>\n",
       "    <tr style=\"text-align: right;\">\n",
       "      <th></th>\n",
       "      <th></th>\n",
       "      <th>A</th>\n",
       "    </tr>\n",
       "    <tr>\n",
       "      <th>Month</th>\n",
       "      <th>Year</th>\n",
       "      <th></th>\n",
       "    </tr>\n",
       "  </thead>\n",
       "  <tbody>\n",
       "    <tr>\n",
       "      <th>1</th>\n",
       "      <th>2023</th>\n",
       "      <td>28259.98168</td>\n",
       "    </tr>\n",
       "  </tbody>\n",
       "</table>\n",
       "</div>"
      ],
      "text/plain": [
       "                      A\n",
       "Month Year             \n",
       "1     2023  28259.98168"
      ]
     },
     "execution_count": 93,
     "metadata": {},
     "output_type": "execute_result"
    }
   ],
   "source": [
    "df.groupby(['Month','Year']).sum()[['A']]"
   ]
  },
  {
   "cell_type": "code",
   "execution_count": null,
   "metadata": {},
   "outputs": [],
   "source": [
    "s"
   ]
  }
 ],
 "metadata": {
  "kernelspec": {
   "display_name": "Python 3 (ipykernel)",
   "language": "python",
   "name": "python3"
  },
  "language_info": {
   "codemirror_mode": {
    "name": "ipython",
    "version": 3
   },
   "file_extension": ".py",
   "mimetype": "text/x-python",
   "name": "python",
   "nbconvert_exporter": "python",
   "pygments_lexer": "ipython3",
   "version": "3.7.3"
  }
 },
 "nbformat": 4,
 "nbformat_minor": 2
}
