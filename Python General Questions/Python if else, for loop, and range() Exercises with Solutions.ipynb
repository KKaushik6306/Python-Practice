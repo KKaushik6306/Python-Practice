{
 "cells": [
  {
   "cell_type": "code",
   "execution_count": 1,
   "metadata": {},
   "outputs": [
    {
     "name": "stdout",
     "output_type": "stream",
     "text": [
      "1\n",
      "2\n",
      "3\n",
      "4\n",
      "5\n",
      "6\n",
      "7\n",
      "8\n",
      "9\n",
      "10\n"
     ]
    }
   ],
   "source": [
    "#Exercise 1: Print First 10 natural numbers using while loop\n",
    "for i in range(1,11):\n",
    "    print(i)"
   ]
  },
  {
   "cell_type": "code",
   "execution_count": 3,
   "metadata": {},
   "outputs": [
    {
     "name": "stdout",
     "output_type": "stream",
     "text": [
      "1\n",
      "12\n",
      "123\n",
      "1234\n",
      "12345\n",
      "\n",
      "1\n",
      "22\n",
      "333\n",
      "4444\n",
      "55555\n"
     ]
    }
   ],
   "source": [
    "#Exercise 2: Print the following pattern\n",
    "# 1 \n",
    "# 1 2 \n",
    "# 1 2 3 \n",
    "# 1 2 3 4 \n",
    "# 1 2 3 4 5 \n",
    "\n",
    "for num in range(1,6):\n",
    "    for j in range(1,num+1):\n",
    "        print(j,end='')\n",
    "    print('')\n",
    "\n",
    "print('')\n",
    "for num in range(1,6):\n",
    "    for j in range(num):\n",
    "        print(num,end='')\n",
    "    print('')"
   ]
  },
  {
   "cell_type": "code",
   "execution_count": 32,
   "metadata": {},
   "outputs": [
    {
     "name": "stdout",
     "output_type": "stream",
     "text": [
      "55\n"
     ]
    }
   ],
   "source": [
    "#Exercise 3: Calculate the sum of all numbers from 1 to a given number\n",
    "def sum_all(nums):\n",
    "    sum = 0\n",
    "    for i in range(1,nums+1):\n",
    "        sum = sum+i\n",
    "    print(sum)\n",
    "sum_all(10 )"
   ]
  },
  {
   "cell_type": "code",
   "execution_count": 37,
   "metadata": {},
   "outputs": [
    {
     "name": "stdout",
     "output_type": "stream",
     "text": [
      "3\n",
      "6\n",
      "9\n",
      "12\n",
      "15\n",
      "18\n",
      "21\n",
      "24\n",
      "27\n",
      "30\n"
     ]
    }
   ],
   "source": [
    "#Exercise 4: Write a program to print multiplication table of a given number\n",
    "def multiplication_num(nums):\n",
    "    for i in range(1,11):\n",
    "        print(nums*i)\n",
    "multiplication_num(3)"
   ]
  },
  {
   "cell_type": "code",
   "execution_count": 43,
   "metadata": {},
   "outputs": [
    {
     "name": "stdout",
     "output_type": "stream",
     "text": [
      "20\n",
      "45\n",
      "10\n"
     ]
    }
   ],
   "source": [
    "#Exercise 5: Display numbers from a list using loop\n",
    "# Write a program to display only those numbers from a list that satisfy the following conditions\n",
    "\n",
    "# The number must be divisible by five\n",
    "# If the number is greater than 150, then skip it and move to the next number\n",
    "# If the number is greater than 500, then stop the loop\n",
    "\n",
    "a = [20,45,7,8,5001,9,10]\n",
    "b = [i for i in a if i%5==0 and i<=150]\n",
    "for i in b:\n",
    "    if i>500:\n",
    "        break\n",
    "    else:\n",
    "        print(i)"
   ]
  },
  {
   "cell_type": "code",
   "execution_count": 44,
   "metadata": {},
   "outputs": [
    {
     "data": {
      "text/plain": [
       "6"
      ]
     },
     "execution_count": 44,
     "metadata": {},
     "output_type": "execute_result"
    }
   ],
   "source": [
    "#Exercise 6: Count the total number of digits in a number\n",
    "digit = 758659\n",
    "st = str(digit)\n",
    "len(st)"
   ]
  },
  {
   "cell_type": "code",
   "execution_count": 46,
   "metadata": {},
   "outputs": [
    {
     "name": "stdout",
     "output_type": "stream",
     "text": [
      "7586\n",
      "758\n",
      "75\n",
      "7\n",
      "0\n",
      "Total digits are: 5\n"
     ]
    }
   ],
   "source": [
    "num = 75869\n",
    "count = 0\n",
    "while num != 0:\n",
    "    # floor division\n",
    "    # to reduce the last digit from number\n",
    "    num = num // 10\n",
    "    print(num)\n",
    "\n",
    "    # increment counter by 1\n",
    "    count = count + 1\n",
    "print(\"Total digits are:\", count)"
   ]
  },
  {
   "cell_type": "code",
   "execution_count": 54,
   "metadata": {},
   "outputs": [
    {
     "name": "stdout",
     "output_type": "stream",
     "text": [
      "54321\n",
      "4321\n",
      "321\n",
      "21\n",
      "1\n"
     ]
    }
   ],
   "source": [
    "#Exercise 7: Print the following pattern\n",
    "# 5 4 3 2 1 \n",
    "# 4 3 2 1 \n",
    "# 3 2 1 \n",
    "# 2 1 \n",
    "# 1\n",
    "for num in range(5,0,-1):\n",
    "    for j in range(num,0,-1):\n",
    "        print(j,end='')\n",
    "    print('')\n",
    "    "
   ]
  },
  {
   "cell_type": "code",
   "execution_count": 60,
   "metadata": {},
   "outputs": [
    {
     "name": "stdout",
     "output_type": "stream",
     "text": [
      "10\n",
      "7\n",
      "9\n",
      "10\n",
      "89\n",
      "67\n",
      "45\n"
     ]
    }
   ],
   "source": [
    "#Exercise 8: Print list in reverse order using a loop\n",
    "a = [12,45,67,89,10,9,7,10]\n",
    "for i in range(len(a)-1,0,-1):\n",
    "    print(a[i])"
   ]
  },
  {
   "cell_type": "code",
   "execution_count": 72,
   "metadata": {},
   "outputs": [
    {
     "name": "stdout",
     "output_type": "stream",
     "text": [
      "-10\n",
      "-9\n",
      "-8\n",
      "-7\n",
      "-6\n",
      "-5\n",
      "-4\n",
      "-3\n",
      "-2\n",
      "-1\n"
     ]
    }
   ],
   "source": [
    "#Exercise 9: Display numbers from -10 to -1 using for loop\n",
    "for i in range(-10,0,1):\n",
    "    print(i)"
   ]
  },
  {
   "cell_type": "code",
   "execution_count": 70,
   "metadata": {},
   "outputs": [
    {
     "name": "stdout",
     "output_type": "stream",
     "text": [
      "0\n",
      "1\n",
      "2\n",
      "3\n",
      "4\n",
      "Done!\n"
     ]
    }
   ],
   "source": [
    "#Exercise 10: Use else block to display a message “Done” after successful execution of for loop\n",
    "for i in range(5):\n",
    "    print(i)\n",
    "else:\n",
    "    print(\"Done!\")"
   ]
  },
  {
   "cell_type": "code",
   "execution_count": 79,
   "metadata": {},
   "outputs": [
    {
     "name": "stdout",
     "output_type": "stream",
     "text": [
      "[29, 31, 37, 41, 43, 47]\n"
     ]
    }
   ],
   "source": [
    "#Exercise 11: Write a program to display all prime numbers within a range\n",
    "# range\n",
    "start = 25\n",
    "end = 50\n",
    "\n",
    "temp = []\n",
    "\n",
    "for num in range(start,end+1):\n",
    "    counter = 0\n",
    "    for j in range(2,num):\n",
    "        if num%j==0:\n",
    "            counter = 1\n",
    "            break\n",
    "    if counter == 0:\n",
    "         temp.append(num)\n",
    "            \n",
    "print(temp)"
   ]
  },
  {
   "cell_type": "code",
   "execution_count": 2,
   "metadata": {},
   "outputs": [
    {
     "name": "stdout",
     "output_type": "stream",
     "text": [
      "Fibonacci sequence:\n",
      "0  1  1  2  3  5  8  13  21  34  "
     ]
    }
   ],
   "source": [
    "#Exercise 12: Display Fibonacci series up to 10 terms\n",
    "num1, num2 = 0, 1\n",
    "\n",
    "print(\"Fibonacci sequence:\")\n",
    "# run loop 10 times\n",
    "for i in range(10):\n",
    "    # print next number of a series\n",
    "    print(num1, end=\"  \")\n",
    "    # add last two numbers to get next number\n",
    "    res = num1 + num2\n",
    "\n",
    "    # update values\n",
    "    num1 = num2\n",
    "    num2 = res\n",
    "    "
   ]
  },
  {
   "cell_type": "code",
   "execution_count": 96,
   "metadata": {},
   "outputs": [
    {
     "name": "stdout",
     "output_type": "stream",
     "text": [
      "120\n"
     ]
    }
   ],
   "source": [
    "#Exercise 13: Find the factorial of a given number\n",
    "def factorial(num):\n",
    "    result = 1 \n",
    "    for i in range(num,0,-1):\n",
    "        result = result * i\n",
    "    print(result)\n",
    "        \n",
    "factorial(5)"
   ]
  },
  {
   "cell_type": "code",
   "execution_count": 99,
   "metadata": {},
   "outputs": [
    {
     "name": "stdout",
     "output_type": "stream",
     "text": [
      "24567\n"
     ]
    }
   ],
   "source": [
    "#Exercise 14: Reverse a given integer number\n",
    "a = 76542\n",
    "st = str(a)\n",
    "print(int(st[::-1]))"
   ]
  },
  {
   "cell_type": "code",
   "execution_count": 101,
   "metadata": {},
   "outputs": [
    {
     "name": "stdout",
     "output_type": "stream",
     "text": [
      "2\n",
      "5\n",
      "7\n",
      "9\n",
      "10\n"
     ]
    }
   ],
   "source": [
    "#Exercise 15: Use a loop to display elements from a given list present at odd index positions\n",
    "a = [2,4,5,6,7,8,9,0,10]\n",
    "counter = 0\n",
    "for i in a:\n",
    "    counter+=1\n",
    "    if counter%2!=0:\n",
    "        print(i)"
   ]
  },
  {
   "cell_type": "code",
   "execution_count": 103,
   "metadata": {},
   "outputs": [
    {
     "name": "stdout",
     "output_type": "stream",
     "text": [
      "125\n",
      "64\n",
      "27\n",
      "8\n",
      "1\n"
     ]
    }
   ],
   "source": [
    "#Exercise 16: Calculate the cube of all numbers from 1 to a given number\n",
    "def cube(num):\n",
    "    for i in range(num,0,-1):\n",
    "        print(i**3)\n",
    "        \n",
    "cube(5)"
   ]
  },
  {
   "cell_type": "code",
   "execution_count": 119,
   "metadata": {},
   "outputs": [
    {
     "name": "stdout",
     "output_type": "stream",
     "text": [
      "2+22+222+2222+22222+\n"
     ]
    }
   ],
   "source": [
    "#Exercise 17: Find the sum of the series upto n terms\n",
    "\n",
    "for i in range(1,6):\n",
    "    print('2'*i, end='+')\n",
    "    "
   ]
  },
  {
   "cell_type": "code",
   "execution_count": 147,
   "metadata": {},
   "outputs": [
    {
     "name": "stdout",
     "output_type": "stream",
     "text": [
      "\n",
      "*\n",
      "**\n",
      "***\n",
      "****\n",
      "*****\n",
      "****\n",
      "***\n",
      "**\n",
      "*\n"
     ]
    }
   ],
   "source": [
    "#Exercise 18: Print the following pattern\n",
    "# * \n",
    "# * * \n",
    "# * * * \n",
    "# * * * * \n",
    "# * * * * * \n",
    "# * * * * \n",
    "# * * * \n",
    "# * * \n",
    "# *\n",
    "\n",
    "for i in range(0,6):\n",
    "    print(str('*')*i)\n",
    "for i in range(4,0,-1):\n",
    "    print(str('*')*i)"
   ]
  },
  {
   "cell_type": "code",
   "execution_count": null,
   "metadata": {},
   "outputs": [],
   "source": []
  }
 ],
 "metadata": {
  "kernelspec": {
   "display_name": "Python 3 (ipykernel)",
   "language": "python",
   "name": "python3"
  },
  "language_info": {
   "codemirror_mode": {
    "name": "ipython",
    "version": 3
   },
   "file_extension": ".py",
   "mimetype": "text/x-python",
   "name": "python",
   "nbconvert_exporter": "python",
   "pygments_lexer": "ipython3",
   "version": "3.7.3"
  }
 },
 "nbformat": 4,
 "nbformat_minor": 2
}
