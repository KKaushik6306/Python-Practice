{
 "cells": [
  {
   "cell_type": "code",
   "execution_count": 1,
   "metadata": {},
   "outputs": [
    {
     "data": {
      "text/plain": [
       "[3, 5, 710, 5, 4, 45, 45, 44]"
      ]
     },
     "execution_count": 1,
     "metadata": {},
     "output_type": "execute_result"
    }
   ],
   "source": [
    "#Exercise 1: Create a list by picking an odd-index items\n",
    "#from the first list and even index items from the second\n",
    "a= [2,3,4,5,6,710,3,5]\n",
    "b = [4,345,45,4545,45,45,44,23]\n",
    "\n",
    "temp = []\n",
    "for i in range(0,len(a)):\n",
    "    if i%2!=0:\n",
    "        temp.append(a[i])\n",
    "for i in range(0,len(b)):\n",
    "    if i%2==0:\n",
    "        temp.append(b[i])\n",
    "\n",
    "temp"
   ]
  },
  {
   "cell_type": "code",
   "execution_count": 2,
   "metadata": {},
   "outputs": [
    {
     "data": {
      "text/plain": [
       "[3, 4, 6, 710, 3, 5, 100]"
      ]
     },
     "execution_count": 2,
     "metadata": {},
     "output_type": "execute_result"
    }
   ],
   "source": [
    "#Exercise 2: Remove and add item in a list\n",
    "a= [2,3,4,5,6,710,3,5]\n",
    "a.remove(2) #Remove will delete that particular dataset\n",
    "a.pop(2) #Pop will delete index number of dataset from list\n",
    "a.append(100) #Append will add value at the end\n",
    "a"
   ]
  },
  {
   "cell_type": "code",
   "execution_count": 35,
   "metadata": {},
   "outputs": [
    {
     "data": {
      "text/plain": [
       "[[2, 3, 4], [5, 6, 71], [3, 5, 10]]"
      ]
     },
     "execution_count": 35,
     "metadata": {},
     "output_type": "execute_result"
    }
   ],
   "source": [
    "#Exercise 3: Slice list into 3 equal chunks and reverse each chunk\n",
    "a= [2,3,4,5,6,71,3,5,10]\n",
    "\n",
    "temp = []\n",
    "counter = 0\n",
    "for i in range(0,len(a)):\n",
    "    counter +=1\n",
    "    if counter==3:\n",
    "        temp.append(a[(i+1)-counter:i+1])\n",
    "        counter = 0\n",
    "    \n",
    "temp"
   ]
  },
  {
   "cell_type": "code",
   "execution_count": 3,
   "metadata": {},
   "outputs": [
    {
     "name": "stdout",
     "output_type": "stream",
     "text": [
      "4\n",
      "2 2\n",
      "3 4\n",
      "4 2\n",
      "5 1\n"
     ]
    }
   ],
   "source": [
    "#Exercise 4: Count the occurrence of each element from a list\n",
    "a= [2,3,4,4,2,3,5,3,3]\n",
    "import collections\n",
    "\n",
    "counts = collections.Counter(a)\n",
    "dict_ = dict(counts)\n",
    "print(dict_[3])\n",
    "\n",
    "for key,value in dict_.items():\n",
    "    print(key,value)"
   ]
  },
  {
   "cell_type": "code",
   "execution_count": 8,
   "metadata": {},
   "outputs": [
    {
     "name": "stdout",
     "output_type": "stream",
     "text": [
      "First List  [2, 3, 4, 5, 6, 7, 8]\n",
      "Second List  [4, 9, 16, 25, 36, 49, 64]\n",
      "{(6, 36), (8, 64), (4, 16), (5, 25), (3, 9), (7, 49), (2, 4)}\n"
     ]
    },
    {
     "data": {
      "text/plain": [
       "[8, 27, 64, 125, 216, 343, 512]"
      ]
     },
     "execution_count": 8,
     "metadata": {},
     "output_type": "execute_result"
    }
   ],
   "source": [
    "#Exercise 5: Create a Python set such that it shows the element from both lists in a pair\n",
    "first_list = [2, 3, 4, 5, 6, 7, 8]\n",
    "print(\"First List \", first_list)\n",
    "\n",
    "second_list = [4, 9, 16, 25, 36, 49, 64]\n",
    "print(\"Second List \", second_list)\n",
    "\n",
    "result = zip(first_list, second_list)\n",
    "result_set = set(result)\n",
    "print(result_set)\n",
    "result = [i*j for i,j in zip(first_list,second_list)]\n",
    "result"
   ]
  },
  {
   "cell_type": "code",
   "execution_count": 9,
   "metadata": {},
   "outputs": [
    {
     "name": "stdout",
     "output_type": "stream",
     "text": [
      "{10, 6}\n"
     ]
    }
   ],
   "source": [
    "#Exercise 6: Find the intersection (common) of two sets and remove those elements from the first set\n",
    "a = {2,4,6,10}\n",
    "b= {2,4,8,30}\n",
    "\n",
    "newlist = list(a.intersection(b))\n",
    "newlist\n",
    "for i in newlist:\n",
    "    a.remove(i)\n",
    "\n",
    "print(a)"
   ]
  },
  {
   "cell_type": "code",
   "execution_count": 10,
   "metadata": {},
   "outputs": [
    {
     "name": "stdout",
     "output_type": "stream",
     "text": [
      "First set is subset of second set: True\n",
      "Second set is subset of first set: False\n",
      "First set is superset of second set: False\n",
      "Second set is superset of first set: True\n"
     ]
    },
    {
     "data": {
      "text/plain": [
       "set()"
      ]
     },
     "execution_count": 10,
     "metadata": {},
     "output_type": "execute_result"
    }
   ],
   "source": [
    "#Exercise 7: Checks if one set is a subset or superset of another set. If found, delete all elements from that set\n",
    "first_set = {27, 43, 34}\n",
    "second_set = {34, 93, 22, 27, 43, 53, 48}\n",
    "\n",
    "print('First set is subset of second set:',first_set.issubset(second_set))\n",
    "print('Second set is subset of first set:',second_set.issubset(first_set))\n",
    "\n",
    "print('First set is superset of second set:',first_set.issuperset(second_set))\n",
    "print('Second set is superset of first set:',second_set.issuperset(first_set))\n",
    "first_set.clear()\n",
    "first_set"
   ]
  },
  {
   "cell_type": "code",
   "execution_count": 14,
   "metadata": {},
   "outputs": [
    {
     "data": {
      "text/plain": [
       "[47, 69, 76, 97]"
      ]
     },
     "execution_count": 14,
     "metadata": {},
     "output_type": "execute_result"
    }
   ],
   "source": [
    "#Exercise 8: Iterate a given list and check if a given element\n",
    "#exists as a key’s value in a dictionary. If not, delete it from the list\n",
    "roll_number = [47, 64, 69, 37, 76, 83, 95, 97]\n",
    "sample_dict = {'Jhon':47, 'Emma':69, 'Kelly':76, 'Jason':97}\n",
    "\n",
    "\n",
    "\n",
    "temp = [item for item in roll_number if item in sample_dict.values()] \n",
    "temp"
   ]
  },
  {
   "cell_type": "code",
   "execution_count": 15,
   "metadata": {},
   "outputs": [
    {
     "name": "stdout",
     "output_type": "stream",
     "text": [
      "After Conveting into list\n",
      "[47, 52, 47, 44, 52, 53, 54, 44, 54]\n",
      "After removing duplicate values\n",
      "[44, 47, 52, 53, 54]\n"
     ]
    },
    {
     "data": {
      "text/plain": [
       "250"
      ]
     },
     "execution_count": 15,
     "metadata": {},
     "output_type": "execute_result"
    }
   ],
   "source": [
    "#Exercise 9: Get all values from the dictionary and add them to a list but don’t add duplicates\n",
    "speed = {'jan': 47, 'feb': 52, 'march': 47, 'April': 44, 'May': 52, 'June': 53, 'july': 54, 'Aug': 44, 'Sept': 54}\n",
    "a = list(speed.values())\n",
    "print('After Conveting into list')\n",
    "print(a)\n",
    "a = set(a)\n",
    "a = list(a)\n",
    "print('After removing duplicate values')\n",
    "print(a)\n",
    "sum(a)"
   ]
  },
  {
   "cell_type": "code",
   "execution_count": 16,
   "metadata": {},
   "outputs": [
    {
     "name": "stdout",
     "output_type": "stream",
     "text": [
      "Minimum value is 41\n",
      "Maximum value is 99\n"
     ]
    }
   ],
   "source": [
    "#Exercise 10: Remove duplicates from a list and create a tuple and find the minimum and maximum number\n",
    "sample_list = [87, 45, 41, 65, 94, 41, 99, 94]\n",
    "sample_list = set(sample_list)\n",
    "sample_list = list(sample_list)\n",
    "sample_list.sort()\n",
    "sample_list\n",
    "print('Minimum value is',sample_list[0])\n",
    "print('Maximum value is',sample_list[-1])\n"
   ]
  },
  {
   "cell_type": "code",
   "execution_count": null,
   "metadata": {},
   "outputs": [],
   "source": []
  }
 ],
 "metadata": {
  "kernelspec": {
   "display_name": "Python 3 (ipykernel)",
   "language": "python",
   "name": "python3"
  },
  "language_info": {
   "codemirror_mode": {
    "name": "ipython",
    "version": 3
   },
   "file_extension": ".py",
   "mimetype": "text/x-python",
   "name": "python",
   "nbconvert_exporter": "python",
   "pygments_lexer": "ipython3",
   "version": "3.7.3"
  }
 },
 "nbformat": 4,
 "nbformat_minor": 2
}
