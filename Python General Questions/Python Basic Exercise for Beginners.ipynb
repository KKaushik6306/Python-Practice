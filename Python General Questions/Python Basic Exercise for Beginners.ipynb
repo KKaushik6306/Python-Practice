{
 "cells": [
  {
   "cell_type": "code",
   "execution_count": 1,
   "metadata": {},
   "outputs": [
    {
     "name": "stderr",
     "output_type": "stream",
     "text": [
      "C:\\Users\\dell\\Anaconda3\\lib\\site-packages\\pandas\\compat\\_optional.py:138: UserWarning: Pandas requires version '2.7.0' or newer of 'numexpr' (version '2.6.9' currently installed).\n",
      "  warnings.warn(msg, UserWarning)\n"
     ]
    }
   ],
   "source": [
    "import pandas as pd\n",
    "import numpy as np\n",
    "import datetime\n",
    "from collections import Counter\n",
    "import collections"
   ]
  },
  {
   "cell_type": "code",
   "execution_count": 2,
   "metadata": {},
   "outputs": [
    {
     "name": "stdout",
     "output_type": "stream",
     "text": [
      "Multiplication of Num1 & Num2 4800\n",
      "Sum of Num1 & Num2 140\n"
     ]
    }
   ],
   "source": [
    "#Exercise 1: Calculate the multiplication and sum of two numbers\n",
    "    \n",
    "num1 = 60\n",
    "num2 = 80\n",
    "print('Multiplication of Num1 & Num2',num1*num2)  \n",
    "print('Sum of Num1 & Num2',num1+num2)    "
   ]
  },
  {
   "cell_type": "code",
   "execution_count": 3,
   "metadata": {},
   "outputs": [
    {
     "name": "stdout",
     "output_type": "stream",
     "text": [
      "Current Number 0 and Previous Number 0 : Sum: 0\n",
      "Current Number 0 and Previous Number 1 : Sum: 1\n",
      "Current Number 1 and Previous Number 2 : Sum: 3\n",
      "Current Number 2 and Previous Number 3 : Sum: 5\n",
      "Current Number 3 and Previous Number 4 : Sum: 7\n",
      "Current Number 4 and Previous Number 5 : Sum: 9\n",
      "Current Number 5 and Previous Number 6 : Sum: 11\n",
      "Current Number 6 and Previous Number 7 : Sum: 13\n",
      "Current Number 7 and Previous Number 8 : Sum: 15\n",
      "Current Number 8 and Previous Number 9 : Sum: 17\n"
     ]
    }
   ],
   "source": [
    "#Exercise 2: Print the sum of the current number and the previous number\n",
    "for i in range(0,10):\n",
    "    num1 = i-1\n",
    "    num2 = i\n",
    "    if num1<0:\n",
    "        num1 = 0\n",
    "    print(f'Current Number {num1} and Previous Number {num2} : Sum: {num1+num2}')"
   ]
  },
  {
   "cell_type": "code",
   "execution_count": 4,
   "metadata": {},
   "outputs": [
    {
     "name": "stdout",
     "output_type": "stream",
     "text": [
      "K\n",
      "r\n",
      "n\n"
     ]
    }
   ],
   "source": [
    "#Exercise 3: Print characters from a string that are present at an even index number\n",
    "a = 'Karan'\n",
    "\n",
    "for i in range(0,len(a)):\n",
    "    if i%2==0:\n",
    "        print(a[i])\n",
    "    "
   ]
  },
  {
   "cell_type": "code",
   "execution_count": 5,
   "metadata": {},
   "outputs": [
    {
     "name": "stdout",
     "output_type": "stream",
     "text": [
      "tive\n"
     ]
    }
   ],
   "source": [
    "#Exercise 4: Remove first n characters from a string\n",
    "def remove_chars(str_text, length):\n",
    "    text = str_text[length:]\n",
    "    print(text)\n",
    "    \n",
    "remove_chars('Native',2)"
   ]
  },
  {
   "cell_type": "code",
   "execution_count": 6,
   "metadata": {},
   "outputs": [
    {
     "name": "stdout",
     "output_type": "stream",
     "text": [
      "No these are not same\n"
     ]
    }
   ],
   "source": [
    "#Exercise 5: Check if the first and last number of a list is the same\n",
    "a = [2,4,5,6,7]\n",
    "b=[3,4,5,6,7,2,22]\n",
    "num1 = a[0]\n",
    "num2 = b[-1]\n",
    "if num1==num2:\n",
    "    print('Yes these are same')\n",
    "else:\n",
    "    print('No these are not same')"
   ]
  },
  {
   "cell_type": "code",
   "execution_count": 7,
   "metadata": {},
   "outputs": [
    {
     "name": "stdout",
     "output_type": "stream",
     "text": [
      "5 is divisible by 5.\n",
      "10 is divisible by 5.\n",
      "15 is divisible by 5.\n",
      "20 is divisible by 5.\n",
      "22 is not divisible by 5.\n",
      "45 is divisible by 5.\n",
      "46 is not divisible by 5.\n",
      "78 is not divisible by 5.\n",
      "90 is divisible by 5.\n"
     ]
    }
   ],
   "source": [
    "#Exercise 6: Display numbers divisible by 5 from a list\n",
    "a = [5,10,15,20,22,45,46,78,90]\n",
    "for num in a:\n",
    "    if num%5==0:\n",
    "        print(f'{num} is divisible by 5.')\n",
    "    else:\n",
    "        print(f'{num} is not divisible by 5.')"
   ]
  },
  {
   "cell_type": "code",
   "execution_count": 13,
   "metadata": {},
   "outputs": [
    {
     "data": {
      "text/plain": [
       "Counter({'Emma': 2, 'is': 2, 'good': 1, 'developer.': 1, 'a': 1, 'writer': 1})"
      ]
     },
     "execution_count": 13,
     "metadata": {},
     "output_type": "execute_result"
    }
   ],
   "source": [
    "#Exercise 7: Return the count of a given substring from a string\n",
    "str_x = \"Emma is good developer. Emma is a writer\"\n",
    "from collections import Counter\n",
    "a = Counter(str_x.split(' '))\n",
    "a"
   ]
  },
  {
   "cell_type": "code",
   "execution_count": 21,
   "metadata": {},
   "outputs": [
    {
     "name": "stdout",
     "output_type": "stream",
     "text": [
      "1\n",
      "22\n",
      "333\n",
      "4444\n",
      "55555\n",
      "1\n",
      "22\n",
      "333\n",
      "4444\n",
      "55555\n"
     ]
    }
   ],
   "source": [
    "#Exercise 8: Print the following pattern\n",
    "# 1 \n",
    "# 2 2 \n",
    "# 3 3 3 \n",
    "# 4 4 4 4 \n",
    "# 5 5 5 5 5\n",
    "\n",
    "for num in range(1,6):\n",
    "    print(str(num)*num)\n",
    "\n",
    "for num in range(1,6):\n",
    "    for j in range(num):\n",
    "        print(num,end='')\n",
    "    print('')"
   ]
  },
  {
   "cell_type": "code",
   "execution_count": 22,
   "metadata": {},
   "outputs": [
    {
     "name": "stdout",
     "output_type": "stream",
     "text": [
      "Yes it is palindrome\n",
      "No it is not a palindrome\n"
     ]
    }
   ],
   "source": [
    "#Exercise 9: Check Palindrome Number\n",
    "def check_palindrome(num):\n",
    "    txt = str(num)\n",
    "    num1_txt = txt[::-1]\n",
    "    num1 = int(num1_txt)\n",
    "    if num == num1:\n",
    "        print('Yes it is palindrome')\n",
    "    else:\n",
    "        print('No it is not a palindrome')\n",
    "\n",
    "check_palindrome(545)\n",
    "check_palindrome(246)"
   ]
  },
  {
   "cell_type": "code",
   "execution_count": 23,
   "metadata": {},
   "outputs": [
    {
     "data": {
      "text/plain": [
       "'Kar'"
      ]
     },
     "execution_count": 23,
     "metadata": {},
     "output_type": "execute_result"
    }
   ],
   "source": [
    "a = 'Karan'\n",
    "a[-len(a):-2]"
   ]
  },
  {
   "cell_type": "code",
   "execution_count": 2,
   "metadata": {},
   "outputs": [
    {
     "data": {
      "text/plain": [
       "[2, 4, 6, 8, 10, 4, 6, 5, 10, 15]"
      ]
     },
     "execution_count": 2,
     "metadata": {},
     "output_type": "execute_result"
    }
   ],
   "source": [
    "#Exercise 10: Create a new list from two list using the following condition\n",
    "a = [2,4,6,8,10,3,4,6,77,99,13]\n",
    "b = [5,10,15,2,3,4,7,9]\n",
    "\n",
    "temp1 = [i for i in a if i%2==0]\n",
    "temp1 = [i for i in a if i%2==0]\n",
    "\n",
    "for i in b:\n",
    "    if i%5==0:\n",
    "        temp1.append(i)\n",
    "temp1"
   ]
  },
  {
   "cell_type": "code",
   "execution_count": 3,
   "metadata": {},
   "outputs": [
    {
     "data": {
      "text/plain": [
       "[2, 4, 6, 8, 10, 4, 6, 5, 10, 15, <map at 0x161713faa20>]"
      ]
     },
     "execution_count": 3,
     "metadata": {},
     "output_type": "execute_result"
    }
   ],
   "source": [
    "test = lambda a: (a for a in x if a%5==0)\n",
    "temp1.append(map(test,temp1))\n",
    "temp1"
   ]
  },
  {
   "cell_type": "code",
   "execution_count": 4,
   "metadata": {},
   "outputs": [
    {
     "data": {
      "text/plain": [
       "list"
      ]
     },
     "execution_count": 4,
     "metadata": {},
     "output_type": "execute_result"
    }
   ],
   "source": [
    "type(temp1)"
   ]
  },
  {
   "cell_type": "code",
   "execution_count": 8,
   "metadata": {},
   "outputs": [
    {
     "data": {
      "text/plain": [
       "<filter at 0x161714d60f0>"
      ]
     },
     "execution_count": 8,
     "metadata": {},
     "output_type": "execute_result"
    }
   ],
   "source": [
    "a"
   ]
  },
  {
   "cell_type": "code",
   "execution_count": 12,
   "metadata": {},
   "outputs": [
    {
     "data": {
      "text/plain": [
       "<filter at 0x161714d60b8>"
      ]
     },
     "execution_count": 12,
     "metadata": {},
     "output_type": "execute_result"
    }
   ],
   "source": [
    "def my_func(x):\n",
    "    if x<18:\n",
    "        return True\n",
    "    else:\n",
    "        return False\n",
    "\n",
    "\n",
    "\n",
    "check = filter(lambda x: True if x<18 else False,a)\n",
    "for x in a:\n",
    "    print(x)\n",
    "check"
   ]
  },
  {
   "cell_type": "code",
   "execution_count": 30,
   "metadata": {},
   "outputs": [
    {
     "data": {
      "text/plain": [
       "'54556781023'"
      ]
     },
     "execution_count": 30,
     "metadata": {},
     "output_type": "execute_result"
    }
   ],
   "source": [
    "#Exercise 11: Write a Program to extract each digit from an integer in the reverse order.\n",
    "i = 54556781023\n",
    "a = str(i)\n",
    "a[::-1]\n",
    "a"
   ]
  },
  {
   "cell_type": "code",
   "execution_count": 38,
   "metadata": {},
   "outputs": [
    {
     "name": "stdout",
     "output_type": "stream",
     "text": [
      "6000.0\n"
     ]
    }
   ],
   "source": [
    "#Exercise 12: Calculate income tax for the given income by adhering to the rules below\n",
    "# First $10,000\t0\n",
    "# Next $10,000\t10\n",
    "# The remaining\t20\n",
    "\n",
    "def calculate_tax(amount):\n",
    "    tax_amount = 0\n",
    "    if amount>10000:\n",
    "        tax_amount = 10000*0\n",
    "    rem_amount = amount-10000\n",
    "    if rem_amount>10000:\n",
    "        tax_amount = tax_amount + (10000*0.1)\n",
    "    rem_amount = amount-20000\n",
    "    if rem_amount>10000:\n",
    "        tax_amount = tax_amount + (rem_amount*0.2)\n",
    "    print(tax_amount)\n",
    "\n",
    "calculate_tax(45000)"
   ]
  },
  {
   "cell_type": "code",
   "execution_count": 31,
   "metadata": {},
   "outputs": [
    {
     "name": "stdout",
     "output_type": "stream",
     "text": [
      "Table for 1\n",
      "1*1=1\n",
      "1*2=2\n",
      "1*3=3\n",
      "1*4=4\n",
      "1*5=5\n",
      "1*6=6\n",
      "1*7=7\n",
      "1*8=8\n",
      "1*9=9\n",
      "1*10=10\n",
      "Table for 2\n",
      "2*1=2\n",
      "2*2=4\n",
      "2*3=6\n",
      "2*4=8\n",
      "2*5=10\n",
      "2*6=12\n",
      "2*7=14\n",
      "2*8=16\n",
      "2*9=18\n",
      "2*10=20\n",
      "Table for 3\n",
      "3*1=3\n",
      "3*2=6\n",
      "3*3=9\n",
      "3*4=12\n",
      "3*5=15\n",
      "3*6=18\n",
      "3*7=21\n",
      "3*8=24\n",
      "3*9=27\n",
      "3*10=30\n",
      "Table for 4\n",
      "4*1=4\n",
      "4*2=8\n",
      "4*3=12\n",
      "4*4=16\n",
      "4*5=20\n",
      "4*6=24\n",
      "4*7=28\n",
      "4*8=32\n",
      "4*9=36\n",
      "4*10=40\n",
      "Table for 5\n",
      "5*1=5\n",
      "5*2=10\n",
      "5*3=15\n",
      "5*4=20\n",
      "5*5=25\n",
      "5*6=30\n",
      "5*7=35\n",
      "5*8=40\n",
      "5*9=45\n",
      "5*10=50\n",
      "Table for 6\n",
      "6*1=6\n",
      "6*2=12\n",
      "6*3=18\n",
      "6*4=24\n",
      "6*5=30\n",
      "6*6=36\n",
      "6*7=42\n",
      "6*8=48\n",
      "6*9=54\n",
      "6*10=60\n",
      "Table for 7\n",
      "7*1=7\n",
      "7*2=14\n",
      "7*3=21\n",
      "7*4=28\n",
      "7*5=35\n",
      "7*6=42\n",
      "7*7=49\n",
      "7*8=56\n",
      "7*9=63\n",
      "7*10=70\n",
      "Table for 8\n",
      "8*1=8\n",
      "8*2=16\n",
      "8*3=24\n",
      "8*4=32\n",
      "8*5=40\n",
      "8*6=48\n",
      "8*7=56\n",
      "8*8=64\n",
      "8*9=72\n",
      "8*10=80\n",
      "Table for 9\n",
      "9*1=9\n",
      "9*2=18\n",
      "9*3=27\n",
      "9*4=36\n",
      "9*5=45\n",
      "9*6=54\n",
      "9*7=63\n",
      "9*8=72\n",
      "9*9=81\n",
      "9*10=90\n",
      "Table for 10\n",
      "10*1=10\n",
      "10*2=20\n",
      "10*3=30\n",
      "10*4=40\n",
      "10*5=50\n",
      "10*6=60\n",
      "10*7=70\n",
      "10*8=80\n",
      "10*9=90\n",
      "10*10=100\n"
     ]
    }
   ],
   "source": [
    "#Exercise 13: Print multiplication table from 1 to 10\n",
    "\n",
    "for i in range(1,11):\n",
    "    print(f'Table for {i}')\n",
    "    for j in range(1,11):\n",
    "        print(f'{i}*{j}={i*j}')"
   ]
  },
  {
   "cell_type": "code",
   "execution_count": 35,
   "metadata": {},
   "outputs": [
    {
     "name": "stdout",
     "output_type": "stream",
     "text": [
      "*****\n",
      "****\n",
      "***\n",
      "**\n",
      "*\n",
      "*****\n",
      "****\n",
      "***\n",
      "**\n",
      "*\n",
      "*****\n",
      "****\n",
      "***\n",
      "**\n",
      "*\n",
      "*****\n",
      "****\n",
      "***\n",
      "**\n",
      "*\n"
     ]
    }
   ],
   "source": [
    "#Exercise 14: Print a downward Half-Pyramid Pattern of Star (asterisk)\n",
    "\n",
    "\n",
    "for i in range(5,0,-1):\n",
    "    print('*' * i)\n",
    "\n",
    "for num in range(5,0,-1):\n",
    "    for i in range(num):\n",
    "        print('*',end='')\n",
    "    print('')\n",
    "\n",
    "\n",
    "for num in range(5,0,-1):\n",
    "    print('*'*num)\n",
    "\n",
    "for num in range(5,0,-1):\n",
    "    for j in range(num,0,-1):\n",
    "        print('*',end='')\n",
    "    print('')"
   ]
  },
  {
   "cell_type": "code",
   "execution_count": 36,
   "metadata": {},
   "outputs": [
    {
     "data": {
      "text/plain": [
       "32"
      ]
     },
     "execution_count": 36,
     "metadata": {},
     "output_type": "execute_result"
    }
   ],
   "source": [
    "#Exercise 15: Write a function called exponent(base, exp) '\n",
    "#that returns an int value of base raises to the power of exp.\n",
    "\n",
    "def exp(base,exp):\n",
    "    return base**exp\n",
    "\n",
    "a = exp(2,5)\n",
    "a"
   ]
  },
  {
   "cell_type": "code",
   "execution_count": 61,
   "metadata": {},
   "outputs": [
    {
     "name": "stdout",
     "output_type": "stream",
     "text": [
      "[2, 3, 5, 6, 7, 8, 9, 10]\n"
     ]
    }
   ],
   "source": [
    "#Exercise 16 : Bubble sorting\n",
    "\n",
    "\n",
    "\n",
    "for i in range(len(nums)-1,0,-1):\n",
    "    for j in range(i):\n",
    "        if nums[j]>nums[j+1]:\n",
    "            temp = nums[j]\n",
    "            nums[j]=nums[j+1]\n",
    "            nums[j+1]=temp\n",
    "print(nums)         "
   ]
  },
  {
   "cell_type": "code",
   "execution_count": 42,
   "metadata": {},
   "outputs": [
    {
     "data": {
      "text/plain": [
       "[2, 3, 5, 6, 7, 8, 9, 10]"
      ]
     },
     "execution_count": 42,
     "metadata": {},
     "output_type": "execute_result"
    }
   ],
   "source": [
    "nums = [5,6,7,3,2,10,8,9]\n",
    "\n",
    "for i in range(len(nums)-1,0,-1):\n",
    "    for j in range(i):\n",
    "        if nums[j]>nums[j+1]:\n",
    "            temp = nums[j]\n",
    "            nums[j] = nums[j+1]\n",
    "            nums[j+1] = temp\n",
    "nums            "
   ]
  },
  {
   "cell_type": "code",
   "execution_count": null,
   "metadata": {},
   "outputs": [],
   "source": []
  }
 ],
 "metadata": {
  "kernelspec": {
   "display_name": "Python 3 (ipykernel)",
   "language": "python",
   "name": "python3"
  },
  "language_info": {
   "codemirror_mode": {
    "name": "ipython",
    "version": 3
   },
   "file_extension": ".py",
   "mimetype": "text/x-python",
   "name": "python",
   "nbconvert_exporter": "python",
   "pygments_lexer": "ipython3",
   "version": "3.7.3"
  }
 },
 "nbformat": 4,
 "nbformat_minor": 2
}
